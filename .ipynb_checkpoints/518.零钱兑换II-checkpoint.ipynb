{
 "cells": [
  {
   "cell_type": "code",
   "execution_count": 12,
   "id": "decd2323",
   "metadata": {},
   "outputs": [
    {
     "name": "stdout",
     "output_type": "stream",
     "text": [
      "[1, 1, 0, 0, 0, 0]\n",
      "[1, 1, 1, 0, 0, 0]\n",
      "[1, 1, 1, 1, 0, 0]\n",
      "[1, 1, 1, 1, 1, 0]\n",
      "[1, 1, 1, 1, 1, 1]\n",
      "[1, 1, 2, 1, 1, 1]\n",
      "[1, 1, 2, 2, 1, 1]\n",
      "[1, 1, 2, 2, 3, 1]\n",
      "[1, 1, 2, 2, 3, 3]\n",
      "[1, 1, 2, 2, 3, 4]\n"
     ]
    },
    {
     "data": {
      "text/plain": [
       "4"
      ]
     },
     "execution_count": 12,
     "metadata": {},
     "output_type": "execute_result"
    }
   ],
   "source": [
    "#给定不同面额的硬币和一个总金额。写出函数来计算可以凑成总金额的硬币组合数。假设每一种面额的硬币有无限个。\n",
    "#tip:参考494 目标和\n",
    "def change(amount, coins):\n",
    "    dp = [0] * (amount + 1)\n",
    "    dp[0] = 1 \n",
    "    m = len(coins)\n",
    "    n = amount + 1\n",
    "    if m == 1 and amount%coins[0]: return 0 #因为可以重复取同一元素，Eg,coins=[5],amount=10\n",
    "    \n",
    "    for c in coins:\n",
    "        for j in range(c, n):\n",
    "            dp[j] += dp[j-c]\n",
    "            print(dp)\n",
    "    return dp[-1]\n",
    "\n",
    "amount = 5\n",
    "coins = [1, 2, 5]\n",
    "change(amount, coins)"
   ]
  }
 ],
 "metadata": {
  "kernelspec": {
   "display_name": "Python 3 (ipykernel)",
   "language": "python",
   "name": "python3"
  },
  "language_info": {
   "codemirror_mode": {
    "name": "ipython",
    "version": 3
   },
   "file_extension": ".py",
   "mimetype": "text/x-python",
   "name": "python",
   "nbconvert_exporter": "python",
   "pygments_lexer": "ipython3",
   "version": "3.9.13"
  }
 },
 "nbformat": 4,
 "nbformat_minor": 5
}
