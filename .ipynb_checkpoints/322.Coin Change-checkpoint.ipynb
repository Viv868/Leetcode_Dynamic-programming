{
 "cells": [
  {
   "cell_type": "code",
   "execution_count": 5,
   "id": "301f2692",
   "metadata": {},
   "outputs": [
    {
     "data": {
      "text/plain": [
       "3"
      ]
     },
     "execution_count": 5,
     "metadata": {},
     "output_type": "execute_result"
    }
   ],
   "source": [
    "def coinChange(coins, amount):\n",
    "    if len(coins) == 1 and amount%coins[0]: return -1\n",
    "    dp = [float('inf') for each in range(amount+1)]\n",
    "    dp[0] = 0\n",
    "    \n",
    "    for i in range(len(coins)):\n",
    "        for j in range(coins[i], amount+1):\n",
    "            dp[j] = min(dp[j], dp[j-coins[i]] + 1)\n",
    "    if dp[-1] == float('inf'):\n",
    "        return -1\n",
    "    \n",
    "    return dp[-1]\n",
    "\n",
    "coins = [1,2,5]\n",
    "amount = 11\n",
    "coinChange(coins, amount)"
   ]
  }
 ],
 "metadata": {
  "kernelspec": {
   "display_name": "Python 3 (ipykernel)",
   "language": "python",
   "name": "python3"
  },
  "language_info": {
   "codemirror_mode": {
    "name": "ipython",
    "version": 3
   },
   "file_extension": ".py",
   "mimetype": "text/x-python",
   "name": "python",
   "nbconvert_exporter": "python",
   "pygments_lexer": "ipython3",
   "version": "3.9.19"
  }
 },
 "nbformat": 4,
 "nbformat_minor": 5
}
