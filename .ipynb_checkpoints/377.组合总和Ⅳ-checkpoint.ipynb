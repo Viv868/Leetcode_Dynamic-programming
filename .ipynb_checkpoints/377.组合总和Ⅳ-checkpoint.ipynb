{
 "cells": [
  {
   "cell_type": "code",
   "execution_count": 3,
   "id": "5599d1fa",
   "metadata": {},
   "outputs": [
    {
     "data": {
      "text/plain": [
       "7"
      ]
     },
     "execution_count": 3,
     "metadata": {},
     "output_type": "execute_result"
    }
   ],
   "source": [
    "#给定一个由正整数组成且不存在重复数字的数组，找出和为给定目标正整数的组合的个数。\n",
    "#tip:求排列数A(n,m)，因为先遍历背包后遍历物品\n",
    "\n",
    "def combinationSum4(nums, target):\n",
    "    m = len(nums)\n",
    "    n = target+1\n",
    "    dp = [0] * n\n",
    "    dp[0] = 1\n",
    "    \n",
    "    for j in range(n):\n",
    "        for i in range(m): #或者用for num in nums:\n",
    "            if j >= nums[i]:\n",
    "                dp[j] += dp[j-nums[i]]\n",
    "    return dp[-1]\n",
    "\n",
    "nums = [1, 2, 3]\n",
    "target = 4\n",
    "combinationSum4(nums, target)"
   ]
  }
 ],
 "metadata": {
  "kernelspec": {
   "display_name": "Python 3 (ipykernel)",
   "language": "python",
   "name": "python3"
  },
  "language_info": {
   "codemirror_mode": {
    "name": "ipython",
    "version": 3
   },
   "file_extension": ".py",
   "mimetype": "text/x-python",
   "name": "python",
   "nbconvert_exporter": "python",
   "pygments_lexer": "ipython3",
   "version": "3.9.13"
  }
 },
 "nbformat": 4,
 "nbformat_minor": 5
}
