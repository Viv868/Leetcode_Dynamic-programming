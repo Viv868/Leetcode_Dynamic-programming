{
 "cells": [
  {
   "cell_type": "code",
   "execution_count": 18,
   "id": "d81f0634",
   "metadata": {
    "scrolled": true
   },
   "outputs": [
    {
     "data": {
      "text/plain": [
       "False"
      ]
     },
     "execution_count": 18,
     "metadata": {},
     "output_type": "execute_result"
    }
   ],
   "source": [
    "#给定一个非空字符串s和一个包含非空单词的列表wordDict，判定s是否可以被空格拆分为一个或多个在字典中出现的单词。\n",
    "#tip：如果确定dp[j]是true，且[j, i]这个区间的子串出现在字典里，那么dp[i]一定是true。（j < i ）。\n",
    "#所以递推公式是 if([j, i] 这个区间的子串出现在字典里 && dp[j]是true) 那么 dp[i] = true。\n",
    "\n",
    "def wordBreak(s, wordDict):\n",
    "    wordSet = set(wordDict) #避免字典中有重复元素，因为元素本就可以重复使用，所以没有必要保留重复元素\n",
    "    dp = [False] * (len(s) + 1)\n",
    "    dp[0] = True  #dp[0]必须初始化为True才能向后递推\n",
    "#此处要求是排列数，因为\"apple\"+\"pen\"+\"apple\"才能组成\"applepenapple\"，\"pen\"+\"apple\"+\"apple\"是不可以的\n",
    "    for i in range(1, len(s)+1):  #先遍历背包\n",
    "        for j in range(i):\n",
    "            substring = s[j:i]\n",
    "            if (substring in wordSet) and dp[j]:\n",
    "                dp[i] = True\n",
    "    return dp[-1]\n",
    "\n",
    "s = \"catsandog\"\n",
    "wordDict = [\"cats\",\"dog\",\"sand\",\"and\",\"cat\"]\n",
    "wordBreak(s, wordDict)"
   ]
  },
  {
   "cell_type": "code",
   "execution_count": 17,
   "id": "fe0247c6",
   "metadata": {},
   "outputs": [
    {
     "name": "stdout",
     "output_type": "stream",
     "text": [
      "[True, False, False, False, False, False, False, False, False, False]\n",
      "[True, False, False, False, False, False, False, False, False, False]\n",
      "[True, False, False, True, False, False, False, False, False, False]\n",
      "[True, False, False, True, True, False, False, False, False, False]\n",
      "[True, False, False, True, True, False, False, False, False, False]\n",
      "[True, False, False, True, True, False, False, False, False, False]\n",
      "[True, False, False, True, True, False, False, False, False, False]\n",
      "[True, False, False, True, True, False, False, False, False, False]\n",
      "[True, False, False, True, True, False, False, False, False, False]\n",
      "[True, False, False, True, True, False, False, False, False, False]\n",
      "[True, False, False, True, True, False, False, False, False, False]\n",
      "[True, False, False, True, True, False, False, False, False, False]\n",
      "[True, False, False, True, True, False, False, False, False, False]\n",
      "[True, False, False, True, True, False, False, False, False, False]\n",
      "[True, False, False, True, True, False, False, False, False, False]\n",
      "[True, False, False, True, True, False, False, False, False, False]\n",
      "[True, False, False, True, True, False, False, False, False, False]\n",
      "[True, False, False, True, True, False, False, False, False, False]\n",
      "[True, False, False, True, True, False, False, False, False, False]\n",
      "[True, False, False, True, True, False, False, False, False, False]\n",
      "[True, False, False, True, True, False, False, True, False, False]\n",
      "[True, False, False, True, True, False, False, True, False, False]\n",
      "[True, False, False, True, True, False, False, True, False, False]\n",
      "[True, False, False, True, True, False, False, True, False, False]\n",
      "[True, False, False, True, True, False, False, True, False, False]\n",
      "[True, False, False, True, True, False, False, True, False, False]\n",
      "[True, False, False, True, True, False, False, True, False, False]\n",
      "[True, False, False, True, True, False, False, True, False, False]\n",
      "[True, False, False, True, True, False, False, True, False, False]\n",
      "[True, False, False, True, True, False, False, True, False, False]\n",
      "[True, False, False, True, True, False, False, True, False, False]\n",
      "[True, False, False, True, True, False, False, True, False, False]\n",
      "[True, False, False, True, True, False, False, True, False, False]\n"
     ]
    },
    {
     "data": {
      "text/plain": [
       "False"
      ]
     },
     "execution_count": 17,
     "metadata": {},
     "output_type": "execute_result"
    }
   ],
   "source": [
    "# dp方法2，参考https://blog.csdn.net/leongongye/article/details/16340625\n",
    "def wordBreak(s, wordDict):\n",
    "        dp = [False]*(len(s) + 1)\n",
    "        dp[0] = True\n",
    "        # 遍历背包\n",
    "        for j in range(1, len(s) + 1):\n",
    "            # 遍历单词\n",
    "            for word in wordDict:\n",
    "                if j >= len(word):\n",
    "                    dp[j] = dp[j] or (dp[j - len(word)] and word == s[j - len(word):j]) #or在赋值中起到if, else的作用\n",
    "#上一句还可以替换成if dp[j - len(word)] and word == s[j - len(word):j]:dp[j] = True,即如果本单词前的字串在s中且本单词在s中，则dp[j]区间也在s中\n",
    "        return dp[len(s)]\n",
    "    \n",
    "s = \"catsandog\"\n",
    "wordDict = [\"cats\",\"dog\",\"sand\",\"and\",\"cat\"]\n",
    "wordBreak(s, wordDict)"
   ]
  },
  {
   "cell_type": "code",
   "execution_count": null,
   "id": "b5374744",
   "metadata": {},
   "outputs": [],
   "source": [
    "#也可以用回溯方法\n",
    "\n",
    "def backtracking(self, s: str, wordSet: set[str], startIndex: int) -> bool:\n",
    "        # 边界情况：已经遍历到字符串末尾，返回True\n",
    "        if startIndex >= len(s):\n",
    "            return True\n",
    "\n",
    "        # 遍历所有可能的拆分位置\n",
    "        for i in range(startIndex, len(s)):\n",
    "            word = s[startIndex:i + 1]  # 截取子串\n",
    "            if word in wordSet and self.backtracking(s, wordSet, i + 1):\n",
    "                # 如果截取的子串在字典中，并且后续部分也可以被拆分成单词，返回True\n",
    "                return True\n",
    "\n",
    "        # 无法进行有效拆分，返回False\n",
    "        return False\n",
    "\n",
    "    def wordBreak(self, s: str, wordDict: List[str]) -> bool:\n",
    "        wordSet = set(wordDict)  # 转换为哈希集合，提高查找效率\n",
    "        return self.backtracking(s, wordSet, 0)"
   ]
  }
 ],
 "metadata": {
  "kernelspec": {
   "display_name": "Python 3 (ipykernel)",
   "language": "python",
   "name": "python3"
  },
  "language_info": {
   "codemirror_mode": {
    "name": "ipython",
    "version": 3
   },
   "file_extension": ".py",
   "mimetype": "text/x-python",
   "name": "python",
   "nbconvert_exporter": "python",
   "pygments_lexer": "ipython3",
   "version": "3.9.13"
  }
 },
 "nbformat": 4,
 "nbformat_minor": 5
}
