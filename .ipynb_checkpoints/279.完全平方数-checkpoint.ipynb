{
 "cells": [
  {
   "cell_type": "code",
   "execution_count": 13,
   "id": "c6b95e58",
   "metadata": {},
   "outputs": [
    {
     "data": {
      "text/plain": [
       "2"
      ]
     },
     "execution_count": 13,
     "metadata": {},
     "output_type": "execute_result"
    }
   ],
   "source": [
    "#给定正整数n，找到若干个完全平方数（比如 1, 4, 9, 16, ...）使和等于n。你需要让组成和的完全平方数的个数最少。\n",
    "#给你一个整数n ，返回和为n的完全平方数的最少数量 。\n",
    "#完全平方数 是一个整数，其值等于另一个整数的平方；例如，1、4、9 和 16 都是完全平方数，而 3 和 11 不是。\n",
    "\n",
    "def numSquares(n):\n",
    "    number = int(pow(n, 0.5))\n",
    "    squares = [i*i for i in range(1, number+1)]  #不能取0，0不是完美平方数\n",
    "    \n",
    "    dp = [float('inf') for i in range(n+1)]\n",
    "    dp[0] = 0\n",
    "    \n",
    "    for s in squares:\n",
    "        for j in range(s, n+1):\n",
    "            dp[j] = min(dp[j], dp[j-s] + 1)\n",
    "            \n",
    "    return dp[-1]\n",
    "            \n",
    "n = 13\n",
    "numSquares(n)"
   ]
  },
  {
   "cell_type": "code",
   "execution_count": 15,
   "id": "32e5ea8f",
   "metadata": {},
   "outputs": [
    {
     "data": {
      "text/plain": [
       "2"
      ]
     },
     "execution_count": 15,
     "metadata": {},
     "output_type": "execute_result"
    }
   ],
   "source": [
    "def numSquares(n):\n",
    "    dp = [float('inf') for i in range(n+1)]\n",
    "    dp[0] = 0\n",
    "    \n",
    "    for i in range(1, int(n**0.5)+1): \n",
    "        for j in range(i*i, n+1):\n",
    "            dp[j] = min(dp[j], dp[j-i*i] + 1)\n",
    "            \n",
    "    return dp[-1]\n",
    "            \n",
    "n = 13\n",
    "numSquares(n)"
   ]
  }
 ],
 "metadata": {
  "kernelspec": {
   "display_name": "Python 3 (ipykernel)",
   "language": "python",
   "name": "python3"
  },
  "language_info": {
   "codemirror_mode": {
    "name": "ipython",
    "version": 3
   },
   "file_extension": ".py",
   "mimetype": "text/x-python",
   "name": "python",
   "nbconvert_exporter": "python",
   "pygments_lexer": "ipython3",
   "version": "3.9.13"
  }
 },
 "nbformat": 4,
 "nbformat_minor": 5
}
