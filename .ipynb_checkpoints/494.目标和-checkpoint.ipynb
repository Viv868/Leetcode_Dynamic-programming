{
 "cells": [
  {
   "cell_type": "code",
   "execution_count": 6,
   "id": "0911545d",
   "metadata": {},
   "outputs": [
    {
     "data": {
      "text/plain": [
       "5"
      ]
     },
     "execution_count": 6,
     "metadata": {},
     "output_type": "execute_result"
    }
   ],
   "source": [
    "#给一个非负整数数组和目标数S。对于数组中的任意一个整数，你都可以从 + 或 -中选择一个符号添加在前面。\n",
    "#返回可以使最终数组和为目标数 S 的所有添加符号的方法数\n",
    "#拆解成01背包，就是一组的和为(sum(nums))+target)/2,另一组为(sum(nums))-target)/2,找出使背包重量等于\n",
    "#任一组和的组合方法\n",
    "\n",
    "def findTargetSumWays(nums, target):\n",
    "    if (int(sum(nums))+target)%2:return 0 #如果不能整除，说明set1为小数,和题目的非负整数数组矛盾\n",
    "    if abs(target) > sum(nums): return 0 #因为这样导致(sum(nums))-target)/2小于0，与题目不符\n",
    "    if len(nums) == 1 and nums[0] == target:\n",
    "        return 1\n",
    "    \n",
    "    set1 = (int(sum(nums))+target)//2\n",
    "    n = set1 + 1\n",
    "    dp = [0] * n\n",
    "    dp[0] = 1 #注意要初始化为1，因为如果为0，后面所有值都会为0(个人认为没有意义)\n",
    "    \n",
    "    for num in nums:\n",
    "        for j in range(n-1, num-1, -1):\n",
    "            dp[j] += dp[j-num]\n",
    "    return dp[-1]\n",
    "\n",
    "nums = [1,1,1,1,1] \n",
    "target = 3\n",
    "findTargetSumWays(nums, target)"
   ]
  },
  {
   "cell_type": "code",
   "execution_count": 11,
   "id": "5902c865",
   "metadata": {},
   "outputs": [
    {
     "name": "stdout",
     "output_type": "stream",
     "text": [
      "[[1, 1, 0, 0, 0], [1, 0, 0, 0, 0], [1, 0, 0, 0, 0], [1, 0, 0, 0, 0], [1, 0, 0, 0, 0]]\n"
     ]
    },
    {
     "data": {
      "text/plain": [
       "5"
      ]
     },
     "execution_count": 11,
     "metadata": {},
     "output_type": "execute_result"
    }
   ],
   "source": [
    "#二维数组，注意初始化的问题\n",
    "\n",
    "def findTargetSumWays(nums, target):\n",
    "    if (int(sum(nums))+target)%2:return 0 \n",
    "    if abs(target) > sum(nums): return 0 \n",
    "    if len(nums) == 1 and nums[0] == target:\n",
    "        return 1\n",
    "    \n",
    "    set1 = (int(sum(nums))+target)//2\n",
    "    n = set1 + 1\n",
    "    m = len(nums)\n",
    "    dp = [[0] * n for _ in range(m)]\n",
    "    \n",
    "    \n",
    "    for j in range(n):  #初始化第一行\n",
    "        if nums[0] == j:\n",
    "            dp[0][j] = 1\n",
    "\n",
    "#初始化第一列,当从nums数组的索引0到i的部分有n个0时（n>0)，每个0可以取+/-，因此有2的n次方种可以取到j=0方案\n",
    "#n = 0说明当前遍历到的数组部分没有0全为正数，因此只有一种方案可以取到j = 0（就是所有数都不取）\n",
    "    n_zero = 0\n",
    "    for i in range(m): \n",
    "        if nums[i] == 0:\n",
    "            n_zero += 1\n",
    "        dp[i][0] = pow(2, n_zero)\n",
    "    print(dp)   \n",
    "    \n",
    "    for i in range(1, m):\n",
    "        for j in range(1, n):\n",
    "            if nums[i] > j:\n",
    "                dp[i][j] = dp[i-1][j]\n",
    "            else:\n",
    "                dp[i][j] = dp[i-1][j] + dp[i-1][j-nums[i]]\n",
    "                \n",
    "    return dp[m-1][-1]\n",
    "\n",
    "nums = [1,1,1,1,1] \n",
    "target = 3\n",
    "findTargetSumWays(nums, target)"
   ]
  }
 ],
 "metadata": {
  "kernelspec": {
   "display_name": "Python 3 (ipykernel)",
   "language": "python",
   "name": "python3"
  },
  "language_info": {
   "codemirror_mode": {
    "name": "ipython",
    "version": 3
   },
   "file_extension": ".py",
   "mimetype": "text/x-python",
   "name": "python",
   "nbconvert_exporter": "python",
   "pygments_lexer": "ipython3",
   "version": "3.9.13"
  }
 },
 "nbformat": 4,
 "nbformat_minor": 5
}
