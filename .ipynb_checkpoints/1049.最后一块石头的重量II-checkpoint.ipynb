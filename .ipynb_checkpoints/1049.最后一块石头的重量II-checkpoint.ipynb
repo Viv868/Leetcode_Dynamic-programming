{
 "cells": [
  {
   "cell_type": "code",
   "execution_count": 1,
   "id": "852099c8",
   "metadata": {},
   "outputs": [
    {
     "data": {
      "text/plain": [
       "1"
      ]
     },
     "execution_count": 1,
     "metadata": {},
     "output_type": "execute_result"
    }
   ],
   "source": [
    "#每块石头的重量是正整数。每次任选两块石头将它们一起粉碎。设石头重量分别为x,y，且x<=y。那粉碎的可能结果为：\n",
    "#若x==y，两块石头都被粉碎;若x!=y,重量为 x 的石头将会完全粉碎，而重量为 y 的石头新重量为 y-x。\n",
    "#最后，最多只会剩下一块石头。返回此石头最小的可能重量。如果没有石头剩下，就返回 0。\n",
    "# tip:尽量让石头分成重量相同的两堆，相撞之后剩下的石头最小，这样就化解成01背包问题了。\n",
    "\n",
    "def lastStoneWeightII(stones):\n",
    "    n = int(sum(stones)//2)+1\n",
    "    dp = [0]*n\n",
    "    \n",
    "    for s in stones:\n",
    "        for j in range(n-1, s-1, -1):\n",
    "            dp[j] = max(dp[j], dp[j-s] + s)\n",
    "    return sum(stones) - dp[-1] - dp[-1]\n",
    "#一堆石头的最大价值(重量)减另一堆石头的最大价值(重量)为最小剩余重量  \n",
    "\n",
    "stones = [2,7,4,1,8,1]\n",
    "lastStoneWeightII(stones)"
   ]
  }
 ],
 "metadata": {
  "kernelspec": {
   "display_name": "Python 3 (ipykernel)",
   "language": "python",
   "name": "python3"
  },
  "language_info": {
   "codemirror_mode": {
    "name": "ipython",
    "version": 3
   },
   "file_extension": ".py",
   "mimetype": "text/x-python",
   "name": "python",
   "nbconvert_exporter": "python",
   "pygments_lexer": "ipython3",
   "version": "3.9.13"
  }
 },
 "nbformat": 4,
 "nbformat_minor": 5
}
