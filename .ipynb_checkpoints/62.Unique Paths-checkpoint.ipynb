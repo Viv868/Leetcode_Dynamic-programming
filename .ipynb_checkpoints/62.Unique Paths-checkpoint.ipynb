{
 "cells": [
  {
   "cell_type": "code",
   "execution_count": 1,
   "id": "4ba3d8f7",
   "metadata": {},
   "outputs": [
    {
     "data": {
      "text/plain": [
       "3.0"
      ]
     },
     "execution_count": 1,
     "metadata": {},
     "output_type": "execute_result"
    }
   ],
   "source": [
    "import numpy as np\n",
    "\n",
    "def uniquePaths(m, n):\n",
    "    dp = np.zeros([m, n])\n",
    "    for i in range(m):  #计算直走横行和直走竖行的情况\n",
    "        dp[i][0] = 1\n",
    "    \n",
    "    for j in range(n):\n",
    "        dp[0][j] = 1\n",
    "    \n",
    "    for i in range(1, m):\n",
    "        for j in range(1, n):\n",
    "            dp[i][j] = dp[i-1][j] + dp[i][j-1]\n",
    "    \n",
    "    return dp[m-1][n-1]\n",
    "\n",
    "m = 2\n",
    "n = 3\n",
    "uniquePaths(m, n)"
   ]
  },
  {
   "cell_type": "code",
   "execution_count": 13,
   "id": "653a0233",
   "metadata": {},
   "outputs": [
    {
     "data": {
      "text/plain": [
       "array([[0., 0., 0., 0., 0., 0., 0.],\n",
       "       [0., 0., 0., 0., 0., 0., 0.],\n",
       "       [0., 0., 0., 0., 0., 0., 0.]])"
      ]
     },
     "execution_count": 13,
     "metadata": {},
     "output_type": "execute_result"
    }
   ],
   "source": [
    "#用滚动数组\n",
    "\n",
    "def uniquePaths(m, n):\n",
    "    dp = [1] * (n)\n",
    "    for i in range(1, m):\n",
    "        for j in range(1, n):\n",
    "            dp[j] += dp[j - 1] \n",
    "        \n",
    "    \n",
    "    return dp[n - 1]\n",
    "    "
   ]
  }
 ],
 "metadata": {
  "kernelspec": {
   "display_name": "Python 3 (ipykernel)",
   "language": "python",
   "name": "python3"
  },
  "language_info": {
   "codemirror_mode": {
    "name": "ipython",
    "version": 3
   },
   "file_extension": ".py",
   "mimetype": "text/x-python",
   "name": "python",
   "nbconvert_exporter": "python",
   "pygments_lexer": "ipython3",
   "version": "3.9.19"
  }
 },
 "nbformat": 4,
 "nbformat_minor": 5
}
