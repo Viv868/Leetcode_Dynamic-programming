{
 "cells": [
  {
   "cell_type": "code",
   "execution_count": 20,
   "id": "e2353367",
   "metadata": {},
   "outputs": [
    {
     "name": "stdout",
     "output_type": "stream",
     "text": [
      "[0, 0, 0, 0, 0, 0, 0, 0, 0, 0, 0, 1]\n",
      "[0, 0, 0, 0, 0, 0, 0, 0, 0, 0, 1, 1]\n",
      "[0, 0, 0, 0, 0, 0, 0, 0, 0, 1, 1, 1]\n",
      "[0, 0, 0, 0, 0, 0, 0, 0, 1, 1, 1, 1]\n",
      "[0, 0, 0, 0, 0, 0, 0, 1, 1, 1, 1, 1]\n",
      "[0, 0, 0, 0, 0, 0, 1, 1, 1, 1, 1, 1]\n",
      "[0, 0, 0, 0, 0, 1, 1, 1, 1, 1, 1, 1]\n",
      "[0, 0, 0, 0, 1, 1, 1, 1, 1, 1, 1, 1]\n",
      "[0, 0, 0, 1, 1, 1, 1, 1, 1, 1, 1, 1]\n",
      "[0, 0, 1, 1, 1, 1, 1, 1, 1, 1, 1, 1]\n",
      "[0, 1, 1, 1, 1, 1, 1, 1, 1, 1, 1, 1]\n",
      "[0, 1, 1, 1, 1, 1, 1, 1, 1, 1, 1, 6]\n",
      "[0, 1, 1, 1, 1, 1, 1, 1, 1, 1, 6, 6]\n",
      "[0, 1, 1, 1, 1, 1, 1, 1, 1, 6, 6, 6]\n",
      "[0, 1, 1, 1, 1, 1, 1, 1, 6, 6, 6, 6]\n",
      "[0, 1, 1, 1, 1, 1, 1, 6, 6, 6, 6, 6]\n",
      "[0, 1, 1, 1, 1, 1, 6, 6, 6, 6, 6, 6]\n",
      "[0, 1, 1, 1, 1, 5, 6, 6, 6, 6, 6, 6]\n",
      "[0, 1, 1, 1, 1, 5, 6, 6, 6, 6, 6, 11]\n",
      "[0, 1, 1, 1, 1, 5, 6, 6, 6, 6, 6, 11]\n",
      "[0, 1, 1, 1, 1, 5, 6, 6, 6, 6, 10, 11]\n",
      "[0, 1, 1, 1, 1, 5, 6, 6, 6, 6, 10, 11]\n",
      "[0, 1, 1, 1, 1, 5, 6, 6, 6, 6, 10, 11]\n",
      "[0, 1, 1, 1, 1, 5, 6, 6, 6, 6, 10, 11]\n",
      "[0, 1, 1, 1, 1, 5, 6, 6, 6, 6, 10, 11]\n",
      "[0, 1, 1, 1, 1, 5, 6, 6, 6, 6, 10, 11]\n"
     ]
    },
    {
     "data": {
      "text/plain": [
       "True"
      ]
     },
     "execution_count": 20,
     "metadata": {},
     "output_type": "execute_result"
    }
   ],
   "source": [
    "#给定一个只包含正整数的非空数组。是否可以将这个数组分割成两个子集，使得两个子集的元素和相等。\n",
    "#tip:套用01背包，每一个元素的数值既是重量，也是价值\n",
    "\n",
    "def canPartition(nums):\n",
    "    if sum(nums)%2: return False\n",
    "    \n",
    "    n = int(sum(nums)/2) + 1\n",
    "    m = len(nums)\n",
    "    dp = [0] * n\n",
    "    \n",
    "    for i in range(m):\n",
    "        for j in range(n-1, nums[i]-1, -1):#要保证j>=nums[i]，不然没空间放进去.可直接用num代替nums[i]\n",
    "            dp[j] = max(dp[j], dp[j-nums[i]] + nums[i])\n",
    "#for num in nums: for j in range(n-1,num,-1): dp[j] = max(dp[j], dp[j-num]+num)\n",
    "            print(dp)\n",
    "    if dp[-1] == n-1:\n",
    "        return True\n",
    "    return False\n",
    "\n",
    "nums = [1,5,11,5]\n",
    "canPartition(nums)"
   ]
  },
  {
   "cell_type": "code",
   "execution_count": 19,
   "id": "4769d65f",
   "metadata": {},
   "outputs": [
    {
     "name": "stdout",
     "output_type": "stream",
     "text": [
      "[0, 0, 0, 0, 0, 0, 0, 0, 0, 0, 0, 1]\n",
      "[0, 0, 0, 0, 0, 0, 0, 0, 0, 0, 1, 1]\n",
      "[0, 0, 0, 0, 0, 0, 0, 0, 0, 1, 1, 1]\n",
      "[0, 0, 0, 0, 0, 0, 0, 0, 1, 1, 1, 1]\n",
      "[0, 0, 0, 0, 0, 0, 0, 1, 1, 1, 1, 1]\n",
      "[0, 0, 0, 0, 0, 0, 1, 1, 1, 1, 1, 1]\n",
      "[0, 0, 0, 0, 0, 1, 1, 1, 1, 1, 1, 1]\n",
      "[0, 0, 0, 0, 1, 1, 1, 1, 1, 1, 1, 1]\n",
      "[0, 0, 0, 1, 1, 1, 1, 1, 1, 1, 1, 1]\n",
      "[0, 0, 1, 1, 1, 1, 1, 1, 1, 1, 1, 1]\n",
      "[0, 1, 1, 1, 1, 1, 1, 1, 1, 1, 1, 1]\n",
      "[0, 1, 1, 1, 1, 1, 1, 1, 1, 1, 1, 6]\n",
      "[0, 1, 1, 1, 1, 1, 1, 1, 1, 1, 6, 6]\n",
      "[0, 1, 1, 1, 1, 1, 1, 1, 1, 6, 6, 6]\n",
      "[0, 1, 1, 1, 1, 1, 1, 1, 6, 6, 6, 6]\n",
      "[0, 1, 1, 1, 1, 1, 1, 6, 6, 6, 6, 6]\n",
      "[0, 1, 1, 1, 1, 1, 6, 6, 6, 6, 6, 6]\n",
      "[0, 1, 1, 1, 1, 5, 6, 6, 6, 6, 6, 6]\n",
      "[0, 1, 1, 1, 1, 5, 6, 6, 6, 6, 6, 11]\n",
      "[0, 1, 1, 1, 1, 5, 6, 6, 6, 6, 6, 11]\n",
      "[0, 1, 1, 1, 1, 5, 6, 6, 6, 6, 10, 11]\n",
      "[0, 1, 1, 1, 1, 5, 6, 6, 6, 6, 10, 11]\n",
      "[0, 1, 1, 1, 1, 5, 6, 6, 6, 6, 10, 11]\n",
      "[0, 1, 1, 1, 1, 5, 6, 6, 6, 6, 10, 11]\n",
      "[0, 1, 1, 1, 1, 5, 6, 6, 6, 6, 10, 11]\n",
      "[0, 1, 1, 1, 1, 5, 6, 6, 6, 6, 10, 11]\n"
     ]
    },
    {
     "data": {
      "text/plain": [
       "True"
      ]
     },
     "execution_count": 19,
     "metadata": {},
     "output_type": "execute_result"
    }
   ],
   "source": [
    "def canPartition(nums):\n",
    "    if sum(nums) % 2 != 0:return False\n",
    "    \n",
    "    target = sum(nums) // 2\n",
    "    dp = [0] * (target + 1)\n",
    "    for num in nums:\n",
    "        for j in range(target, num-1, -1):\n",
    "            dp[j] = max(dp[j], dp[j-num] + num)\n",
    "            print(dp)\n",
    "    return dp[-1] == target\n",
    "\n",
    "nums = [1,5,11,5]\n",
    "canPartition(nums)"
   ]
  }
 ],
 "metadata": {
  "kernelspec": {
   "display_name": "Python 3 (ipykernel)",
   "language": "python",
   "name": "python3"
  },
  "language_info": {
   "codemirror_mode": {
    "name": "ipython",
    "version": 3
   },
   "file_extension": ".py",
   "mimetype": "text/x-python",
   "name": "python",
   "nbconvert_exporter": "python",
   "pygments_lexer": "ipython3",
   "version": "3.9.13"
  }
 },
 "nbformat": 4,
 "nbformat_minor": 5
}
