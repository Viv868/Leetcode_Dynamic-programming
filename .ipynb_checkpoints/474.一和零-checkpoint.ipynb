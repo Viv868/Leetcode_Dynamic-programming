{
 "cells": [
  {
   "cell_type": "code",
   "execution_count": 13,
   "id": "3eb48baf",
   "metadata": {
    "scrolled": false
   },
   "outputs": [
    {
     "data": {
      "text/plain": [
       "4"
      ]
     },
     "execution_count": 13,
     "metadata": {},
     "output_type": "execute_result"
    }
   ],
   "source": [
    "#给一个二进制字符串数组strs和两个整数m,n 。找出并返回strs的最大子集的大小，该子集最多有m个0 和 n 个 1 。\n",
    "#如果x的所有元素也是y的元素，集合x是集合y的子集 。\n",
    "#两个维度上的01背包\n",
    "def findMaxForm(strs, m, n):\n",
    "    dp = [[0]*(n+1) for _ in range(m+1)]\n",
    "    #略去了真正的初始化过程，因为上来直接就可以开始统计有几个0几个1。初始状态均默认为0即可\n",
    "    #由于当前的dp[i][j]均要用到之前的值，因而均要倒序遍历\n",
    "    n_zeros = n_ones = 0\n",
    "    for s in strs:\n",
    "        n_zeros = s.count('0')\n",
    "        n_ones = len(s) - n_zeros\n",
    "        \n",
    "        for i in range(m, n_zeros-1, -1):#要保证i-n_zeros>=0\n",
    "            for j in range(n, n_ones-1, -1):\n",
    "                dp[i][j] = max(dp[i][j], dp[i-n_zeros][j-n_ones]+1) #max取最大值以确保装的东西是最多的\n",
    "                \n",
    "    return dp[m][n]\n",
    "\n",
    "strs = [\"10\",\"0001\",\"111001\",\"1\",\"0\"]\n",
    "m = 5\n",
    "n = 3\n",
    "findMaxForm(strs,5,3)"
   ]
  }
 ],
 "metadata": {
  "kernelspec": {
   "display_name": "Python 3 (ipykernel)",
   "language": "python",
   "name": "python3"
  },
  "language_info": {
   "codemirror_mode": {
    "name": "ipython",
    "version": 3
   },
   "file_extension": ".py",
   "mimetype": "text/x-python",
   "name": "python",
   "nbconvert_exporter": "python",
   "pygments_lexer": "ipython3",
   "version": "3.9.13"
  }
 },
 "nbformat": 4,
 "nbformat_minor": 5
}
