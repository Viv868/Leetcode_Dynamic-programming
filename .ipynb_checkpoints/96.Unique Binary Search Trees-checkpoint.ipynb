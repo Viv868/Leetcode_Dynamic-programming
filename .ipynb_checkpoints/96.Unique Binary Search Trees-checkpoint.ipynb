{
 "cells": [
  {
   "cell_type": "code",
   "execution_count": 3,
   "id": "ed70ed30",
   "metadata": {},
   "outputs": [
    {
     "data": {
      "text/plain": [
       "14"
      ]
     },
     "execution_count": 3,
     "metadata": {},
     "output_type": "execute_result"
    }
   ],
   "source": [
    "\n",
    "def numTrees(n):\n",
    "    dp = [0] * (n+1)\n",
    "    dp[0] = 1 \n",
    "    \n",
    "    for i in range(1, n+1):\n",
    "        for j in range(i):\n",
    "            dp[i] += dp[j] * dp[i-j-1]\n",
    "    return dp[-1]\n",
    "numTrees(4)"
   ]
  }
 ],
 "metadata": {
  "kernelspec": {
   "display_name": "Python 3 (ipykernel)",
   "language": "python",
   "name": "python3"
  },
  "language_info": {
   "codemirror_mode": {
    "name": "ipython",
    "version": 3
   },
   "file_extension": ".py",
   "mimetype": "text/x-python",
   "name": "python",
   "nbconvert_exporter": "python",
   "pygments_lexer": "ipython3",
   "version": "3.9.19"
  }
 },
 "nbformat": 4,
 "nbformat_minor": 5
}
