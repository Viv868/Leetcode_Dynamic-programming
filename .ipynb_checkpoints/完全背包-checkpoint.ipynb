{
 "cells": [
  {
   "cell_type": "code",
   "execution_count": 2,
   "id": "60713983",
   "metadata": {},
   "outputs": [
    {
     "data": {
      "text/plain": [
       "60"
      ]
     },
     "execution_count": 2,
     "metadata": {},
     "output_type": "execute_result"
    }
   ],
   "source": [
    "#有N件物品和一个最多能背重量为W的背包。第i件物品的重量是weight[i]，得到的价值是value[i] 。\n",
    "#每件物品都有无限个（也就是可以放入背包多次），求解将哪些物品装入背包里物品价值总和最大。\n",
    "\n",
    "def completePack(w, v, bagsize):\n",
    "    m = len(w)\n",
    "    n = bagsize + 1\n",
    "    dp = [0]*(bagsize+1)\n",
    "    for i in range(m):  #对于完全背包由于一个物品可以多次放入，因为内层循环无需倒序，且内外循环可以互换\n",
    "        for j in range(w[i], n):\n",
    "            dp[j] = max(dp[j], dp[j-w[i]] + v[i])\n",
    "    return dp[-1]\n",
    "\n",
    "w = [1,3,4]\n",
    "v = [15,20,30]\n",
    "bagsize = 4\n",
    "completePack(w, v, bagsize)"
   ]
  }
 ],
 "metadata": {
  "kernelspec": {
   "display_name": "Python 3 (ipykernel)",
   "language": "python",
   "name": "python3"
  },
  "language_info": {
   "codemirror_mode": {
    "name": "ipython",
    "version": 3
   },
   "file_extension": ".py",
   "mimetype": "text/x-python",
   "name": "python",
   "nbconvert_exporter": "python",
   "pygments_lexer": "ipython3",
   "version": "3.9.13"
  }
 },
 "nbformat": 4,
 "nbformat_minor": 5
}
