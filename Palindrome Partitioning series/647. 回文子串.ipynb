{
 "cells": [
  {
   "cell_type": "code",
   "execution_count": 1,
   "id": "d1e28a29",
   "metadata": {},
   "outputs": [
    {
     "data": {
      "text/plain": [
       "3"
      ]
     },
     "execution_count": 1,
     "metadata": {},
     "output_type": "execute_result"
    }
   ],
   "source": [
    "def countSubstrings(s):\n",
    "    dp = [[False]*len(s) for _ in range(len(s))]\n",
    "    result = 0\n",
    "    for i in range(len(s)-1, -1, -1):  #i需要倒序，因为dp[i]需要dp[i+1]的值\n",
    "        for j in range(i, len(s)):\n",
    "            if s[i] == s[j]:\n",
    "                if j-i <= 1: \n",
    "                    result += 1\n",
    "                    dp[i][j] = True                    \n",
    "                elif dp[i+1][j-1] \n",
    "                    result += 1\n",
    "                    dp[i][j] = True\n",
    "    return result\n",
    "\n",
    "s = \"abc\"\n",
    "countSubstrings(s)"
   ]
  },
  {
   "cell_type": "code",
   "execution_count": 9,
   "id": "6ecfed32",
   "metadata": {},
   "outputs": [
    {
     "data": {
      "text/plain": [
       "6"
      ]
     },
     "execution_count": 9,
     "metadata": {},
     "output_type": "execute_result"
    }
   ],
   "source": [
    "#双指针(即中心扩散法),在遍历中心点的时候，要注意中心点有两种情况。一个元素可以作为中心点，两个元素也可以作为中心点。\n",
    "def countSubstrings(s):\n",
    "    result = 0\n",
    "    for i in range(len(s)):\n",
    "        result += centralExtend(s, i, i, len(s))\n",
    "        result += centralExtend(s, i, i+1, len(s))  #两个元素作为中心\n",
    "    \n",
    "    return result\n",
    "    \n",
    "def centralExtend(s, i, j, n):\n",
    "    res = 0\n",
    "    while i >= 0 and j < n and s[i] == s[j]: #满足这个条件即可作为中心开始扩散\n",
    "        res += 1\n",
    "        i -= 1\n",
    "        j += 1\n",
    "    return res\n",
    "   \n",
    "\n",
    "s = \"aaa\"\n",
    "countSubstrings(s)"
   ]
  }
 ],
 "metadata": {
  "kernelspec": {
   "display_name": "Python 3 (ipykernel)",
   "language": "python",
   "name": "python3"
  },
  "language_info": {
   "codemirror_mode": {
    "name": "ipython",
    "version": 3
   },
   "file_extension": ".py",
   "mimetype": "text/x-python",
   "name": "python",
   "nbconvert_exporter": "python",
   "pygments_lexer": "ipython3",
   "version": "3.9.19"
  }
 },
 "nbformat": 4,
 "nbformat_minor": 5
}
