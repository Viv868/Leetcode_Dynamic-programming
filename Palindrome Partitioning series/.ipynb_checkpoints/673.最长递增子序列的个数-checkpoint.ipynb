{
 "cells": [
  {
   "cell_type": "code",
   "execution_count": 1,
   "id": "259125dc",
   "metadata": {},
   "outputs": [
    {
     "data": {
      "text/plain": [
       "1"
      ]
     },
     "execution_count": 1,
     "metadata": {},
     "output_type": "execute_result"
    }
   ],
   "source": [
    "#参考300\n",
    "def findNumberOfLIS(nums):\n",
    "    if len(nums) == 1: return 1\n",
    "    dp = [1] * len(nums) #每个数自己的子序列至少是1\n",
    "    count = [1] * len(nums)\n",
    "    max_len = 1\n",
    "    result = 0\n",
    "    \n",
    "    for i in range(1, len(nums)):\n",
    "        for j in range(i): #j正序倒序遍历都可以\n",
    "            if nums[i] > nums[j]:\n",
    "                if dp[j] + 1 > dp[i]: count[i] = count[j]\n",
    "                elif dp[j] + 1 == dp[i]: count[i] += count[j]\n",
    "            dp[i] = max(dp[i], dp[j] + 1) \n",
    "        \n",
    "        if dp[i] > max_len:\n",
    "            max_len = dp[i]\n",
    "            result = count[i]\n",
    "\n",
    "    return result\n",
    "\n",
    "nums = [1,3,5,4,7]\n",
    "findNumberOfLIS(nums)"
   ]
  }
 ],
 "metadata": {
  "kernelspec": {
   "display_name": "Python 3 (ipykernel)",
   "language": "python",
   "name": "python3"
  },
  "language_info": {
   "codemirror_mode": {
    "name": "ipython",
    "version": 3
   },
   "file_extension": ".py",
   "mimetype": "text/x-python",
   "name": "python",
   "nbconvert_exporter": "python",
   "pygments_lexer": "ipython3",
   "version": "3.9.19"
  }
 },
 "nbformat": 4,
 "nbformat_minor": 5
}
