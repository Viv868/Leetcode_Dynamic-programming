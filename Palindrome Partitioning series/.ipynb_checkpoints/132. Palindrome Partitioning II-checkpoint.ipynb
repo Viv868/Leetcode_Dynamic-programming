{
 "cells": [
  {
   "cell_type": "code",
   "execution_count": 2,
   "id": "1200770a",
   "metadata": {},
   "outputs": [
    {
     "data": {
      "text/plain": [
       "1"
      ]
     },
     "execution_count": 2,
     "metadata": {},
     "output_type": "execute_result"
    }
   ],
   "source": [
    "def minCut(s):\n",
    "    isPalindromic = [[False]*len(s) for i in range(len(s))]\n",
    "    for i in range(len(s)-1, -1, -1):\n",
    "        for j in range(i, len(s)):\n",
    "            if s[i] == s[j] and (j-i <= 1 or isPalindromic[i+1][j-1]):\n",
    "                    isPalindromic[i][j] = True\n",
    "                    \n",
    "    dp = [len(s)]*len(s) #均初始为len(s)（即每个字符都分割）\n",
    "    dp[0] = 0\n",
    "\n",
    "    for i in range(1, len(s)):\n",
    "        if isPalindromic[0][i]: \n",
    "            dp[i] = 0\n",
    "            continue\n",
    "        for j in range(0, i):\n",
    "            if isPalindromic[j+1][i]:\n",
    "                dp[i] = min(dp[j] + 1, dp[i])\n",
    "    return dp[-1]\n",
    "\n",
    "s = 'aab'\n",
    "minCut(s)                    "
   ]
  }
 ],
 "metadata": {
  "kernelspec": {
   "display_name": "Python 3 (ipykernel)",
   "language": "python",
   "name": "python3"
  },
  "language_info": {
   "codemirror_mode": {
    "name": "ipython",
    "version": 3
   },
   "file_extension": ".py",
   "mimetype": "text/x-python",
   "name": "python",
   "nbconvert_exporter": "python",
   "pygments_lexer": "ipython3",
   "version": "3.9.19"
  }
 },
 "nbformat": 4,
 "nbformat_minor": 5
}
