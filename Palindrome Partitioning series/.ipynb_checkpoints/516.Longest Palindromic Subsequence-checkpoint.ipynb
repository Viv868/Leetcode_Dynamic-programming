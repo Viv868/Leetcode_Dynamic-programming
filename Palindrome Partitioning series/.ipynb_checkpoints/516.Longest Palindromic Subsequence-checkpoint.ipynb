{
 "cells": [
  {
   "cell_type": "code",
   "execution_count": 7,
   "id": "376d111b",
   "metadata": {},
   "outputs": [
    {
     "data": {
      "text/plain": [
       "2"
      ]
     },
     "execution_count": 7,
     "metadata": {},
     "output_type": "execute_result"
    }
   ],
   "source": [
    "\n",
    "def longestPalindromeSubseq(s):\n",
    "    dp = [[0]*len(s) for _ in range(len(s))]\n",
    "    for i in range(len(s)):   #初始化\n",
    "        dp[i][i] = 1\n",
    "   \n",
    "    result = 0\n",
    "    for i in range(len(s)-1, -1, -1):\n",
    "        for j in range(i+1, len(s)):\n",
    "            if s[i] == s[j]:\n",
    "                dp[i][j] = dp[i+1][j-1] + 2\n",
    "            else:\n",
    "                dp[i][j] = max(dp[i+1][j], dp[i][j-1]) \n",
    "           \n",
    "    \n",
    "    return dp[0][-1]\n",
    "\n",
    "s = \"cbbd\"\n",
    "longestPalindromeSubseq(s)"
   ]
  }
 ],
 "metadata": {
  "kernelspec": {
   "display_name": "Python 3 (ipykernel)",
   "language": "python",
   "name": "python3"
  },
  "language_info": {
   "codemirror_mode": {
    "name": "ipython",
    "version": 3
   },
   "file_extension": ".py",
   "mimetype": "text/x-python",
   "name": "python",
   "nbconvert_exporter": "python",
   "pygments_lexer": "ipython3",
   "version": "3.9.19"
  }
 },
 "nbformat": 4,
 "nbformat_minor": 5
}
