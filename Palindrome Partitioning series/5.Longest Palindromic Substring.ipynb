{
 "cells": [
  {
   "cell_type": "code",
   "execution_count": 1,
   "id": "3c03f4cb",
   "metadata": {},
   "outputs": [
    {
     "data": {
      "text/plain": [
       "'aba'"
      ]
     },
     "execution_count": 1,
     "metadata": {},
     "output_type": "execute_result"
    }
   ],
   "source": [
    "#tip:参考647\n",
    "\n",
    "def longestPalindrome(s):\n",
    "    dp = [[False]*len(s) for _ in range(len(s))]\n",
    "    max_len = 0\n",
    "    max_string = ''\n",
    "    for i in range(len(s)-1, -1, -1):\n",
    "        for j in range(i, len(s)):\n",
    "            if s[i] == s[j]:\n",
    "                if j-i <= 1:\n",
    "                    dp[i][j] = True\n",
    "                    \n",
    "                elif dp[i+1][j-1]: #即dp[i][j]左下角为True\n",
    "                    dp[i][j] = True\n",
    "            if dp[i][j] and (j-i+1) > max_len: \n",
    "                max_len = j-i+1\n",
    "                max_string = s[i:j+1]\n",
    "    \n",
    "    return max_string\n",
    "s = 'babad'\n",
    "longestPalindrome(s)"
   ]
  }
 ],
 "metadata": {
  "kernelspec": {
   "display_name": "Python 3 (ipykernel)",
   "language": "python",
   "name": "python3"
  },
  "language_info": {
   "codemirror_mode": {
    "name": "ipython",
    "version": 3
   },
   "file_extension": ".py",
   "mimetype": "text/x-python",
   "name": "python",
   "nbconvert_exporter": "python",
   "pygments_lexer": "ipython3",
   "version": "3.9.19"
  }
 },
 "nbformat": 4,
 "nbformat_minor": 5
}
