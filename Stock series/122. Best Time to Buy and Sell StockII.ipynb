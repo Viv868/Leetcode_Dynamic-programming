{
 "cells": [
  {
   "cell_type": "code",
   "execution_count": 7,
   "id": "e16aee8b",
   "metadata": {},
   "outputs": [
    {
     "data": {
      "text/plain": [
       "7"
      ]
     },
     "execution_count": 7,
     "metadata": {},
     "output_type": "execute_result"
    }
   ],
   "source": [
    "#二维的写法dp[i][0] = max(dp[i-1][0], dp[i-1][1]-prices[i]), 此处略去\n",
    "\n",
    "def maxProfit(prices):  #一维写法\n",
    "    length = len(prices)\n",
    "    dp = [0] * 2\n",
    "    dp[0] = -prices[0]\n",
    "    dp[1] = 0\n",
    "    \n",
    "    for i in range(1, length):\n",
    "        dp[1] = max(dp[1], dp[0]+prices[i]) \n",
    "        dp[0] = max(dp[0], dp[1]-prices[i])    \n",
    "    return max(dp[0], dp[1])\n",
    "\n",
    "prices = [7,1,5,3,6,4]\n",
    "maxProfit(prices)"
   ]
  }
 ],
 "metadata": {
  "kernelspec": {
   "display_name": "Python 3 (ipykernel)",
   "language": "python",
   "name": "python3"
  },
  "language_info": {
   "codemirror_mode": {
    "name": "ipython",
    "version": 3
   },
   "file_extension": ".py",
   "mimetype": "text/x-python",
   "name": "python",
   "nbconvert_exporter": "python",
   "pygments_lexer": "ipython3",
   "version": "3.9.19"
  }
 },
 "nbformat": 4,
 "nbformat_minor": 5
}
