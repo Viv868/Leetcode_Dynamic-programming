{
 "cells": [
  {
   "cell_type": "code",
   "execution_count": 12,
   "id": "25ae92f0",
   "metadata": {},
   "outputs": [
    {
     "data": {
      "text/plain": [
       "3"
      ]
     },
     "execution_count": 12,
     "metadata": {},
     "output_type": "execute_result"
    }
   ],
   "source": [
    "#tip:0,1,2,3分别表示持有状态，保持卖出状态，当天卖出状态，冷冻状态\n",
    "\n",
    "def maxProfit(prices):\n",
    "    length = len(prices)\n",
    "    if length == 0: return 0\n",
    "    dp = [[0] * 4 for _ in range(length)]\n",
    "    dp[0][0] = -prices[0]  #dp[0][1-3]均初始为0\n",
    "\n",
    "    for i in range(1, length):       \n",
    "        dp[i][0] = max(dp[i-1][0], max(dp[i-1][3], dp[i-1][1]) - prices[i])     \n",
    "        dp[i][1] = max(dp[i-1][1], dp[i-1][3]) \n",
    "        dp[i][2] = dp[i-1][0] + prices[i] \n",
    "        dp[i][3] = dp[i-1][2]  \n",
    "    return max(dp[length-1][-1], dp[length-1][-2], dp[length-1][-3]) \n",
    "                                 \n",
    "prices = [1,2,3,0,2]\n",
    "maxProfit(prices)                                "
   ]
  },
  {
   "cell_type": "code",
   "execution_count": 17,
   "id": "3d39c5c2",
   "metadata": {},
   "outputs": [
    {
     "data": {
      "text/plain": [
       "3"
      ]
     },
     "execution_count": 17,
     "metadata": {},
     "output_type": "execute_result"
    }
   ],
   "source": [
    "#一维\n",
    "def maxProfit(prices):\n",
    "    length = len(prices)\n",
    "    if length == 0: return 0\n",
    "    dp = [0] * 4\n",
    "    dp[0] = -prices[0]\n",
    "    \n",
    "    for i in range(1, length):\n",
    "        temp = dp[3]\n",
    "        \n",
    "        dp[3] = dp[2]\n",
    "        dp[2] = dp[0] + prices[i]\n",
    "        dp[0] = max(dp[0], temp-prices[i], dp[1]-prices[i])\n",
    "        dp[1] = max(dp[1], temp)\n",
    "        \n",
    "        \n",
    "    return max(dp[1], dp[2], dp[3])\n",
    "\n",
    "prices = [1,2,3,0,2]\n",
    "maxProfit(prices)                                        "
   ]
  }
 ],
 "metadata": {
  "kernelspec": {
   "display_name": "Python 3 (ipykernel)",
   "language": "python",
   "name": "python3"
  },
  "language_info": {
   "codemirror_mode": {
    "name": "ipython",
    "version": 3
   },
   "file_extension": ".py",
   "mimetype": "text/x-python",
   "name": "python",
   "nbconvert_exporter": "python",
   "pygments_lexer": "ipython3",
   "version": "3.9.19"
  }
 },
 "nbformat": 4,
 "nbformat_minor": 5
}
