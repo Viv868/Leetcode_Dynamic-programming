{
 "cells": [
  {
   "cell_type": "code",
   "execution_count": 3,
   "id": "834d1a11",
   "metadata": {},
   "outputs": [
    {
     "data": {
      "text/plain": [
       "0"
      ]
     },
     "execution_count": 3,
     "metadata": {},
     "output_type": "execute_result"
    }
   ],
   "source": [
    "\n",
    "def maxProfit(prices):\n",
    "    if len(prices) == 0: return 0\n",
    "    dp = [[0]*2 for _ in range(len(prices))]\n",
    "    dp[0][0] = -prices[0]  #初始化，即第0天持有和不持有股票时拥有的最大现金值\n",
    "    dp[0][1] = 0\n",
    "    for i in range(1, len(prices)):\n",
    "        dp[i][0] = max(dp[i-1][0], -prices[i]) \n",
    "        dp[i][1] = max(dp[i-1][1], dp[i-1][0]+prices[i]) \n",
    "        \n",
    "    return max(dp[-1][0], dp[-1][1])\n",
    "\n",
    "prices = [7,6,4,3,1]\n",
    "maxProfit(prices)"
   ]
  },
  {
   "cell_type": "code",
   "execution_count": 2,
   "id": "fa19f5a8",
   "metadata": {},
   "outputs": [
    {
     "data": {
      "text/plain": [
       "0"
      ]
     },
     "execution_count": 2,
     "metadata": {},
     "output_type": "execute_result"
    }
   ],
   "source": [
    "#dp一维优化!!!\n",
    "\n",
    "def maxProfit(prices):\n",
    "    length = len(prices)\n",
    "    if length == 0: return 0\n",
    "    dp = [0] * 2\n",
    "    dp[0] = -prices[0]\n",
    "    dp[1] = 0\n",
    "    \n",
    "    for i in range(1, length):\n",
    "        dp[1] = max(dp[1], dp[0]+prices[i])  \n",
    "        dp[0] = max(dp[0], -prices[i])\n",
    "\n",
    "    return dp[1]\n",
    "prices = [7,6,4,3,1]\n",
    "maxProfit(prices)"
   ]
  },
  {
   "cell_type": "code",
   "execution_count": null,
   "id": "b3eb497b",
   "metadata": {},
   "outputs": [],
   "source": [
    "#滚动数组， 只记录当天和前一天的状态\n",
    "def maxProfit(prices):\n",
    "        length = len(prices)\n",
    "        dp = [[0] * 2 for _ in range(2)] \n",
    "        dp[0][0] = -prices[0]\n",
    "        dp[0][1] = 0\n",
    "        for i in range(1, length):\n",
    "            dp[i % 2][0] = max(dp[(i-1) % 2][0], -prices[i])\n",
    "            dp[i % 2][1] = max(dp[(i-1) % 2][1], prices[i] + dp[(i-1) % 2][0])\n",
    "        return dp[(length-1) % 2][1]"
   ]
  },
  {
   "cell_type": "code",
   "execution_count": 1,
   "id": "fef5578e",
   "metadata": {},
   "outputs": [
    {
     "data": {
      "text/plain": [
       "5"
      ]
     },
     "execution_count": 1,
     "metadata": {},
     "output_type": "execute_result"
    }
   ],
   "source": [
    "#贪心：取最小左值和最大右值\n",
    "\n",
    "def maxProfit(nums):\n",
    "    low = float('inf')\n",
    "    result = 0\n",
    "    for i in range(len(nums)):\n",
    "        low = min(low, nums[i])\n",
    "        result = max(result, nums[i]-low)\n",
    "        \n",
    "    return result\n",
    "\n",
    "prices = [7,1,5,3,6,4]\n",
    "maxProfit(prices)"
   ]
  }
 ],
 "metadata": {
  "kernelspec": {
   "display_name": "Python 3 (ipykernel)",
   "language": "python",
   "name": "python3"
  },
  "language_info": {
   "codemirror_mode": {
    "name": "ipython",
    "version": 3
   },
   "file_extension": ".py",
   "mimetype": "text/x-python",
   "name": "python",
   "nbconvert_exporter": "python",
   "pygments_lexer": "ipython3",
   "version": "3.9.19"
  }
 },
 "nbformat": 4,
 "nbformat_minor": 5
}
