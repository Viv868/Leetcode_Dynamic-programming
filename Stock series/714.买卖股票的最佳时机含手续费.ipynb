{
 "cells": [
  {
   "cell_type": "code",
   "execution_count": 1,
   "id": "0afecb6e",
   "metadata": {},
   "outputs": [
    {
     "data": {
      "text/plain": [
       "8"
      ]
     },
     "execution_count": 1,
     "metadata": {},
     "output_type": "execute_result"
    }
   ],
   "source": [
    "def maxProfit(prices, fee):\n",
    "    length = len(prices)\n",
    "    dp = [0] * 2\n",
    "    dp[0] = -prices[0]\n",
    "    dp[1] = 0\n",
    "    \n",
    "    for i in range(1, length):\n",
    "        \n",
    "        dp[1] = max(dp[1], dp[0]+prices[i]-fee) \n",
    "        dp[0] = max(dp[0], dp[1]-prices[i])    \n",
    "    return dp[1]\n",
    "\n",
    "prices = [1,3,2,8,4,9] \n",
    "fee = 2\n",
    "maxProfit(prices, fee)"
   ]
  }
 ],
 "metadata": {
  "kernelspec": {
   "display_name": "Python 3 (ipykernel)",
   "language": "python",
   "name": "python3"
  },
  "language_info": {
   "codemirror_mode": {
    "name": "ipython",
    "version": 3
   },
   "file_extension": ".py",
   "mimetype": "text/x-python",
   "name": "python",
   "nbconvert_exporter": "python",
   "pygments_lexer": "ipython3",
   "version": "3.9.19"
  }
 },
 "nbformat": 4,
 "nbformat_minor": 5
}
