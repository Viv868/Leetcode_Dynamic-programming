{
 "cells": [
  {
   "cell_type": "code",
   "execution_count": 1,
   "id": "4d12a052",
   "metadata": {},
   "outputs": [
    {
     "data": {
      "text/plain": [
       "7"
      ]
     },
     "execution_count": 1,
     "metadata": {},
     "output_type": "execute_result"
    }
   ],
   "source": [
    "#一维数组\n",
    "def maxProfit(k, prices):\n",
    "    length = len(prices)\n",
    "    if length == 0: return 0\n",
    "    n = 2*k + 1\n",
    "    dp = [0] * n\n",
    "    for i in range(n):\n",
    "        if i%2: dp[i] = -prices[0]\n",
    "    \n",
    "    for i in range(length):\n",
    "        for j in range(1, n):\n",
    "            dp[j] = max(dp[j], dp[j-1]+prices[i] * (-1)**j)\n",
    "   \n",
    "    return dp[-1]\n",
    "        \n",
    "k = 2\n",
    "prices = [3,2,6,5,0,3]\n",
    "maxProfit(k, prices)"
   ]
  }
 ],
 "metadata": {
  "kernelspec": {
   "display_name": "Python 3 (ipykernel)",
   "language": "python",
   "name": "python3"
  },
  "language_info": {
   "codemirror_mode": {
    "name": "ipython",
    "version": 3
   },
   "file_extension": ".py",
   "mimetype": "text/x-python",
   "name": "python",
   "nbconvert_exporter": "python",
   "pygments_lexer": "ipython3",
   "version": "3.9.19"
  }
 },
 "nbformat": 4,
 "nbformat_minor": 5
}
