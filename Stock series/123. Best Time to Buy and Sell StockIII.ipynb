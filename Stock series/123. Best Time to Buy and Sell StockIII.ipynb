{
 "cells": [
  {
   "cell_type": "code",
   "execution_count": 2,
   "id": "2e843a24",
   "metadata": {},
   "outputs": [
    {
     "data": {
      "text/plain": [
       "6"
      ]
     },
     "execution_count": 2,
     "metadata": {},
     "output_type": "execute_result"
    }
   ],
   "source": [
    "\n",
    "#tip:每天设置5个状态：没操作、第一次持有、第一次卖出、第二次持有、第二次卖出，五个状态对应0-4\n",
    "\n",
    "def maxProfit(prices):\n",
    "    length = len(prices)\n",
    "    dp = [[0]*5 for _ in range(length)]\n",
    "    dp[0][0] = 0\n",
    "    dp[0][1] = -prices[0]\n",
    "    dp[0][2] = 0   #可以理解为当天买入，当天卖出\n",
    "    dp[0][3] = -prices[0]\n",
    "    dp[0][4] = 0\n",
    "    \n",
    "    for i in range(1, length):\n",
    "        dp[i][1] = max(dp[i-1][1], dp[i-1][0]-prices[i])\n",
    "        dp[i][2] = max(dp[i-1][2], dp[i-1][1]+prices[i])\n",
    "        dp[i][3] = max(dp[i-1][3], dp[i-1][2]-prices[i])\n",
    "        dp[i][4] = max(dp[i-1][4], dp[i-1][3]+prices[i])\n",
    "    return dp[-1][4]\n",
    "\n",
    "prices = [3,3,5,0,0,3,1,4]\n",
    "maxProfit(prices)"
   ]
  },
  {
   "cell_type": "code",
   "execution_count": 1,
   "id": "31ccc2db",
   "metadata": {},
   "outputs": [
    {
     "data": {
      "text/plain": [
       "6"
      ]
     },
     "execution_count": 1,
     "metadata": {},
     "output_type": "execute_result"
    }
   ],
   "source": [
    "#一维优化\n",
    "\n",
    "def maxProfit(prices):\n",
    "    length = len(prices)\n",
    "    dp = [0]*5\n",
    "    dp[0] = 0\n",
    "    dp[1] = -prices[0]\n",
    "    dp[2] = 0\n",
    "    dp[3] = -prices[0]\n",
    "    dp[4] = 0\n",
    "    \n",
    "    for i in range(1, length):\n",
    "        dp[4] = max(dp[4], dp[3] + prices[i])  \n",
    "        dp[3] = max(dp[3], dp[2] - prices[i])\n",
    "        dp[2] = max(dp[2], dp[1] + prices[i])\n",
    "        dp[1] = max(dp[1], dp[0] - prices[i])\n",
    "\n",
    "    return dp[-1]\n",
    "\n",
    "prices = [3,3,5,0,0,3,1,4]\n",
    "maxProfit(prices)        "
   ]
  }
 ],
 "metadata": {
  "kernelspec": {
   "display_name": "Python 3 (ipykernel)",
   "language": "python",
   "name": "python3"
  },
  "language_info": {
   "codemirror_mode": {
    "name": "ipython",
    "version": 3
   },
   "file_extension": ".py",
   "mimetype": "text/x-python",
   "name": "python",
   "nbconvert_exporter": "python",
   "pygments_lexer": "ipython3",
   "version": "3.9.19"
  }
 },
 "nbformat": 4,
 "nbformat_minor": 5
}
