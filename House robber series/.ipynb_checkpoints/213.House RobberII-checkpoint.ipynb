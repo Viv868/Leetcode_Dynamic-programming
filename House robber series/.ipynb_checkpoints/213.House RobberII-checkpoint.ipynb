{
 "cells": [
  {
   "cell_type": "code",
   "execution_count": 11,
   "id": "6f1ad1b0",
   "metadata": {},
   "outputs": [
    {
     "name": "stdout",
     "output_type": "stream",
     "text": [
      "[2, 2] \n",
      " [0, 3, 3]\n"
     ]
    },
    {
     "data": {
      "text/plain": [
       "3"
      ]
     },
     "execution_count": 11,
     "metadata": {},
     "output_type": "execute_result"
    }
   ],
   "source": [
    "#同于198，只是这次房间为首尾相连\n",
    "\n",
    "def rob(nums):\n",
    "    if len(nums) == 1: return nums[0]\n",
    "    if len(nums) == 2: return max(nums[1], nums[0])\n",
    "    \n",
    "    dp1 = [0] * (len(nums)-1)\n",
    "    dp2 = [0] * len(nums)\n",
    "    #dp1是从0到n-1选出偷的最大价值\n",
    "    dp1[0] = nums[0]\n",
    "    dp1[1] = max(nums[1], nums[0])\n",
    "    dp2[1] = nums[1]\n",
    "    dp2[2] = max(nums[1], nums[2])\n",
    "    for i in range(2, len(nums)-1):\n",
    "        dp1[i] = max(dp1[i-1], dp1[i-2] + nums[i])\n",
    "    \n",
    "    #dp2是从1到n选出偷的最大价值\n",
    "    for i in range(3, len(nums)):\n",
    "        dp2[i] = max(dp2[i-1], dp2[i-2] + nums[i])\n",
    "    \n",
    "    return max(dp1[-1], dp2[-1])\n",
    "\n",
    "nums = [2,3,2]\n",
    "rob(nums)"
   ]
  },
  {
   "cell_type": "code",
   "execution_count": 42,
   "id": "4446a638",
   "metadata": {},
   "outputs": [
    {
     "data": {
      "text/plain": [
       "4"
      ]
     },
     "execution_count": 42,
     "metadata": {},
     "output_type": "execute_result"
    }
   ],
   "source": [
    "#更规整的写法\n",
    "def robrange(start, end, length, nums):\n",
    "    dp = [0] * length\n",
    "    dp[start] = nums[start]\n",
    "    dp[start + 1] = max(nums[start], nums[start + 1])\n",
    "    \n",
    "    for i in range(start+2, end+1):\n",
    "        dp[i] = max(dp[i-1], dp[i-2] + nums[i])\n",
    "        \n",
    "    if start == 0:\n",
    "        return dp[-2]\n",
    "    else:\n",
    "        return dp[-1]\n",
    "\n",
    "def rob(nums):\n",
    "    if len(nums) == 0: return 0\n",
    "    if len(nums) == 1: return nums[0]\n",
    "    if len(nums) == 2: return max(nums[0], nums[1])\n",
    "    length = len(nums)\n",
    "    \n",
    "    result1 = robrange(0, length-2, length, nums)\n",
    "    result2 = robrange(1, length-1, length, nums)\n",
    "    \n",
    "    return max(result1, result2)\n",
    "\n",
    "nums = [1,2,3,1]\n",
    "rob(nums)"
   ]
  }
 ],
 "metadata": {
  "kernelspec": {
   "display_name": "Python 3 (ipykernel)",
   "language": "python",
   "name": "python3"
  },
  "language_info": {
   "codemirror_mode": {
    "name": "ipython",
    "version": 3
   },
   "file_extension": ".py",
   "mimetype": "text/x-python",
   "name": "python",
   "nbconvert_exporter": "python",
   "pygments_lexer": "ipython3",
   "version": "3.9.19"
  }
 },
 "nbformat": 4,
 "nbformat_minor": 5
}
