{
 "cells": [
  {
   "cell_type": "code",
   "execution_count": null,
   "id": "c76fced3",
   "metadata": {},
   "outputs": [],
   "source": [
    "# 一维数组\n",
    "def rob(nums):\n",
    "    if len(nums) == 0: \n",
    "            return 0\n",
    "        if len(nums) == 1:  # 如果只有一个房屋，返回其金额\n",
    "            return nums[0]\n",
    "\n",
    "        dp = [0] * len(nums)\n",
    "        dp[0] = nums[0]  \n",
    "        dp[1] = max(nums[0], nums[1])  # 将dp的第二个元素设置为第一二个房屋中的金额较大者\n",
    "\n",
    "        for i in range(2, len(nums)):\n",
    "            dp[i] = max(dp[i - 2] + nums[i], dp[i - 1])\n",
    "\n",
    "        return dp[-1] "
   ]
  }
 ],
 "metadata": {
  "kernelspec": {
   "display_name": "Python 3 (ipykernel)",
   "language": "python",
   "name": "python3"
  },
  "language_info": {
   "codemirror_mode": {
    "name": "ipython",
    "version": 3
   },
   "file_extension": ".py",
   "mimetype": "text/x-python",
   "name": "python",
   "nbconvert_exporter": "python",
   "pygments_lexer": "ipython3",
   "version": "3.9.19"
  }
 },
 "nbformat": 4,
 "nbformat_minor": 5
}
