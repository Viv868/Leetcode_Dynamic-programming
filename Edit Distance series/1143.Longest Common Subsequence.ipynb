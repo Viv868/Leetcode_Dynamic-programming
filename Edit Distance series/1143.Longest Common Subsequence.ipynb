{
 "cells": [
  {
   "cell_type": "code",
   "execution_count": 1,
   "id": "a065ad3d",
   "metadata": {},
   "outputs": [
    {
     "data": {
      "text/plain": [
       "2"
      ]
     },
     "execution_count": 1,
     "metadata": {},
     "output_type": "execute_result"
    }
   ],
   "source": [
    "def longestCommonSubsequence(text1, text2):\n",
    "    dp = [[0] * (len(text2)+1) for _ in range(len(text1)+1)]\n",
    " \n",
    "    for i in range(1,len(text1)+1):\n",
    "        for j in range(1, len(text2)+1):\n",
    "            if text1[i-1] == text2[j-1]:\n",
    "                dp[i][j] = dp[i-1][j-1] + 1\n",
    "            else:\n",
    "                dp[i][j] = max(dp[i-1][j], dp[i][j-1])\n",
    "            \n",
    "    return dp[-1][-1]\n",
    "\n",
    "text1 = \"ezupkr\"\n",
    "text2 = \"ubmrapg\"\n",
    "longestCommonSubsequence(text1, text2)"
   ]
  },
  {
   "cell_type": "code",
   "execution_count": 4,
   "id": "e19a9c6e",
   "metadata": {},
   "outputs": [
    {
     "data": {
      "text/plain": [
       "2"
      ]
     },
     "execution_count": 4,
     "metadata": {},
     "output_type": "execute_result"
    }
   ],
   "source": [
    "#一维\n",
    "def longestCommonSubsequence(text1, text2):\n",
    "        m, n = len(text1), len(text2)\n",
    "        dp = [0] * (n + 1)  # 初始化一维DP数组\n",
    "        \n",
    "        for i in range(1, m + 1):\n",
    "            prev = 0  # pre用于保存dp[i-1][j-1]\n",
    "            for j in range(1, n + 1):\n",
    "                curr = dp[j]  \n",
    "                if text1[i - 1] == text2[j - 1]:\n",
    "                    dp[j] = prev + 1\n",
    "                else:\n",
    "                    dp[j] = max(dp[j], dp[j - 1])\n",
    "                prev = curr \n",
    "                \n",
    "        return dp[n] \n",
    "\n",
    "text1 = \"ezupkr\"\n",
    "text2 = \"ubmrapg\"\n",
    "longestCommonSubsequence(text1, text2)"
   ]
  }
 ],
 "metadata": {
  "kernelspec": {
   "display_name": "Python 3 (ipykernel)",
   "language": "python",
   "name": "python3"
  },
  "language_info": {
   "codemirror_mode": {
    "name": "ipython",
    "version": 3
   },
   "file_extension": ".py",
   "mimetype": "text/x-python",
   "name": "python",
   "nbconvert_exporter": "python",
   "pygments_lexer": "ipython3",
   "version": "3.9.19"
  }
 },
 "nbformat": 4,
 "nbformat_minor": 5
}
