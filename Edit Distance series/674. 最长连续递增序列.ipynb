{
 "cells": [
  {
   "cell_type": "code",
   "execution_count": 4,
   "id": "5f8f4824",
   "metadata": {},
   "outputs": [
    {
     "data": {
      "text/plain": [
       "3"
      ]
     },
     "execution_count": 4,
     "metadata": {},
     "output_type": "execute_result"
    }
   ],
   "source": [
    "def findLengthOfLCIS(nums):\n",
    "    dp = [1] * len(nums) \n",
    "    result = 1\n",
    "    \n",
    "    for i in range(1, len(nums)):\n",
    "        if nums[i] > nums[i-1]:\n",
    "            dp[i] = dp[i-1] + 1\n",
    "            if dp[i] > result: result = dp[i]\n",
    "    return result\n",
    "\n",
    "nums = [1,3,5,4,7]\n",
    "findLengthOfLCIS(nums)"
   ]
  },
  {
   "cell_type": "code",
   "execution_count": null,
   "id": "40f22b23",
   "metadata": {},
   "outputs": [],
   "source": [
    "# dp优化版\n",
    "def findLengthOfLCIS(self, nums: List[int]) -> int:\n",
    "        if not nums:\n",
    "            return 0\n",
    "\n",
    "        max_length = 1\n",
    "        current_length = 1\n",
    "\n",
    "        for i in range(1, len(nums)):\n",
    "            if nums[i] > nums[i - 1]:\n",
    "                current_length += 1\n",
    "                max_length = max(max_length, current_length)\n",
    "            else:\n",
    "                current_length = 1\n",
    "\n",
    "        return max_length"
   ]
  },
  {
   "cell_type": "code",
   "execution_count": null,
   "id": "4627a501",
   "metadata": {},
   "outputs": [],
   "source": [
    "#贪心\n",
    "def findLengthOfLCIS(self, nums: List[int]) -> int:\n",
    "        if len(nums) == 0:\n",
    "            return 0\n",
    "        result = 1 \n",
    "        count = 1\n",
    "        for i in range(len(nums)-1):\n",
    "            if nums[i+1] > nums[i]: \n",
    "                count += 1\n",
    "            else: #不连续，count从头开始\n",
    "                count = 1\n",
    "            result = max(result, count)\n",
    "        return result"
   ]
  }
 ],
 "metadata": {
  "kernelspec": {
   "display_name": "Python 3 (ipykernel)",
   "language": "python",
   "name": "python3"
  },
  "language_info": {
   "codemirror_mode": {
    "name": "ipython",
    "version": 3
   },
   "file_extension": ".py",
   "mimetype": "text/x-python",
   "name": "python",
   "nbconvert_exporter": "python",
   "pygments_lexer": "ipython3",
   "version": "3.9.19"
  }
 },
 "nbformat": 4,
 "nbformat_minor": 5
}
