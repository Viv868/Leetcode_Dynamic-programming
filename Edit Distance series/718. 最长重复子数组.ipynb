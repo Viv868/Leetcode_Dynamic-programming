{
 "cells": [
  {
   "cell_type": "code",
   "execution_count": 4,
   "id": "e5424df8",
   "metadata": {},
   "outputs": [
    {
     "data": {
      "text/plain": [
       "3"
      ]
     },
     "execution_count": 4,
     "metadata": {},
     "output_type": "execute_result"
    }
   ],
   "source": [
    "def findLength(nums1, nums2):\n",
    "    dp = [[0] * (len(nums2)+1) for _ in range(len(nums1)+1)]\n",
    "    result = 0   \n",
    "    for i in range(1,len(nums1)+1):\n",
    "        for j in range(1, len(nums2)+1):\n",
    "            if nums1[i-1] == nums2[j-1]:\n",
    "                dp[i][j] = dp[i-1][j-1] + 1\n",
    "        \n",
    "            if dp[i][j] > result: result = dp[i][j]\n",
    "    \n",
    "    return result\n",
    "\n",
    "nums1 = [1,2,3,2,1]\n",
    "nums2 = [3,2,1,4,7]\n",
    "findLength(nums1, nums2)"
   ]
  },
  {
   "cell_type": "code",
   "execution_count": 2,
   "id": "4c34c1f9",
   "metadata": {},
   "outputs": [
    {
     "data": {
      "text/plain": [
       "3"
      ]
     },
     "execution_count": 2,
     "metadata": {},
     "output_type": "execute_result"
    }
   ],
   "source": [
    "#一维\n",
    "\n",
    "def findLength(nums1, nums2):\n",
    "    dp = [0] * (len(nums2)+1)\n",
    "    result = 0\n",
    "    for i in range(1,len(nums1)+1):\n",
    "        prev = 0\n",
    "        for j in range(1, len(nums2)+1):\n",
    "            current = dp[j]\n",
    "            if nums1[i-1] == nums2[j-1]:\n",
    "                dp[j] = prev + 1\n",
    "                # 更新最长公共子数组的长度\n",
    "                if dp[j] > result:\n",
    "                    result = dp[j]\n",
    "            else:\n",
    "                    # 如果不相等，将当前位置的值置为零\n",
    "                dp[j] = 0\n",
    "                # 更新 prev 变量为当前位置的值\n",
    "            prev = current\n",
    "            \n",
    "    return result\n",
    "\n",
    "nums1 = [1,2,3,2,1]\n",
    "nums2 = [3,2,1,4,7]\n",
    "findLength(nums1, nums2)"
   ]
  },
  {
   "cell_type": "code",
   "execution_count": 3,
   "id": "0d68795c",
   "metadata": {},
   "outputs": [
    {
     "data": {
      "text/plain": [
       "3"
      ]
     },
     "execution_count": 3,
     "metadata": {},
     "output_type": "execute_result"
    }
   ],
   "source": [
    "#一维：内层循环倒叙即可\n",
    "def findLength(nums1, nums2):\n",
    "    dp = [0] * (len(nums2)+1)\n",
    "    result = 0\n",
    "    for i in range(1,len(nums1)+1):\n",
    "        for j in range(len(nums2),0, -1):\n",
    "            if nums1[i-1] == nums2[j-1]:\n",
    "                dp[j] = dp[j-1] + 1\n",
    "                # 更新最长公共子数组的长度\n",
    "                if dp[j] > result:\n",
    "                    result = dp[j]\n",
    "            else:\n",
    "                dp[j] = 0\n",
    "            \n",
    "    return result\n",
    "\n",
    "nums1 = [1,0,0,0,1]\n",
    "nums2 = [1,0,0,1,1]\n",
    "findLength(nums1, nums2)"
   ]
  }
 ],
 "metadata": {
  "kernelspec": {
   "display_name": "Python 3 (ipykernel)",
   "language": "python",
   "name": "python3"
  },
  "language_info": {
   "codemirror_mode": {
    "name": "ipython",
    "version": 3
   },
   "file_extension": ".py",
   "mimetype": "text/x-python",
   "name": "python",
   "nbconvert_exporter": "python",
   "pygments_lexer": "ipython3",
   "version": "3.9.19"
  }
 },
 "nbformat": 4,
 "nbformat_minor": 5
}
