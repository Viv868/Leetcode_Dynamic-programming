{
 "cells": [
  {
   "cell_type": "code",
   "execution_count": 9,
   "id": "52ce7446",
   "metadata": {},
   "outputs": [
    {
     "data": {
      "text/plain": [
       "3"
      ]
     },
     "execution_count": 9,
     "metadata": {},
     "output_type": "execute_result"
    }
   ],
   "source": [
    "# 等同于1143求最长公共子序列\n",
    "def maxUncrossedLines(nums1, nums2):\n",
    "    m, n = len(nums1), len(nums2)\n",
    "    dp = [[0] * (n+1) for _ in range(m+1)]\n",
    "    \n",
    "    for i in range(1, m+1):\n",
    "        for j in range(1, n+1):\n",
    "            if nums1[i-1] == nums2[j-1]:\n",
    "                dp[i][j] = dp[i-1][j-1] + 1\n",
    "            else:\n",
    "                dp[i][j] = max(dp[i-1][j], dp[i][j-1])\n",
    "            \n",
    "         \n",
    "    return dp[-1][-1]\n",
    "\n",
    "nums1 = [1,1,2,1,2]\n",
    "nums2 = [1,3,2,3,1]\n",
    "maxUncrossedLines(nums1, nums2)"
   ]
  },
  {
   "cell_type": "code",
   "execution_count": 12,
   "id": "8d9f2ddb",
   "metadata": {},
   "outputs": [
    {
     "data": {
      "text/plain": [
       "3"
      ]
     },
     "execution_count": 12,
     "metadata": {},
     "output_type": "execute_result"
    }
   ],
   "source": [
    "#一维\n",
    "def maxUncrossedLines(nums1, nums2):\n",
    "    dp = [0] * (len(nums2) + 1)\n",
    "    \n",
    "    for i in range(1, len(nums1) + 1):\n",
    "        prev = 0\n",
    "        for j in range(1, len(nums2) + 1):\n",
    "            curr = dp[j]\n",
    "            if nums1[i-1] == nums2[j-1]:\n",
    "                dp[j] = prev + 1\n",
    "            else:\n",
    "                dp[j] = max(dp[j], dp[j-1])\n",
    "            prev = curr\n",
    "    \n",
    "    return dp[-1]\n",
    "\n",
    "nums1 = [1,1,2,1,2]\n",
    "nums2 = [1,3,2,3,1]\n",
    "maxUncrossedLines(nums1, nums2)"
   ]
  }
 ],
 "metadata": {
  "kernelspec": {
   "display_name": "Python 3 (ipykernel)",
   "language": "python",
   "name": "python3"
  },
  "language_info": {
   "codemirror_mode": {
    "name": "ipython",
    "version": 3
   },
   "file_extension": ".py",
   "mimetype": "text/x-python",
   "name": "python",
   "nbconvert_exporter": "python",
   "pygments_lexer": "ipython3",
   "version": "3.9.19"
  }
 },
 "nbformat": 4,
 "nbformat_minor": 5
}
