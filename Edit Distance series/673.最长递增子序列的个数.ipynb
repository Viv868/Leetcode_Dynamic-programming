{
 "cells": [
  {
   "cell_type": "code",
   "execution_count": 2,
   "id": "84d52eda",
   "metadata": {},
   "outputs": [
    {
     "data": {
      "text/plain": [
       "3"
      ]
     },
     "execution_count": 2,
     "metadata": {},
     "output_type": "execute_result"
    }
   ],
   "source": [
    "def findNumberOfLIS(nums):\n",
    "    dp = [1]*len(nums)\n",
    "    count = [1]*len(nums)\n",
    "    max_len = 0\n",
    "    result = 0\n",
    "    temp = [1]*len(nums)\n",
    "    for i in range(1, len(nums)):\n",
    "        for j in range(i):\n",
    "            if nums[i] > nums[j]:\n",
    "                if dp[j] + 1 > dp[i]: \n",
    "                    count[i] = count[j]\n",
    "                    temp[i] = temp[j]\n",
    "                    dp[i] = dp[j] + 1\n",
    "                    \n",
    "                elif dp[j] + 1 == dp[i]: \n",
    "                    count[i] += count[j]\n",
    "                    temp[i] = temp[j] +1 \n",
    "                   \n",
    "                \n",
    "            if dp[i] > max_len: max_len = dp[i]\n",
    "    \n",
    "    for i in range(len(dp)):\n",
    "        if dp[i] == max_len:\n",
    "            result += count[i] #要把所有等于最长上升子序列长度的子序列数目汇总\n",
    "    return result\n",
    "\n",
    "nums = [1,2,4,3,5,4,7,2]\n",
    "findNumberOfLIS(nums)"
   ]
  }
 ],
 "metadata": {
  "kernelspec": {
   "display_name": "Python 3 (ipykernel)",
   "language": "python",
   "name": "python3"
  },
  "language_info": {
   "codemirror_mode": {
    "name": "ipython",
    "version": 3
   },
   "file_extension": ".py",
   "mimetype": "text/x-python",
   "name": "python",
   "nbconvert_exporter": "python",
   "pygments_lexer": "ipython3",
   "version": "3.9.19"
  }
 },
 "nbformat": 4,
 "nbformat_minor": 5
}
