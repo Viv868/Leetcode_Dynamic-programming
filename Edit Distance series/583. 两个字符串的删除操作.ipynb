{
 "cells": [
  {
   "cell_type": "code",
   "execution_count": 4,
   "id": "8a4ee19d",
   "metadata": {},
   "outputs": [
    {
     "data": {
      "text/plain": [
       "2"
      ]
     },
     "execution_count": 4,
     "metadata": {},
     "output_type": "execute_result"
    }
   ],
   "source": [
    "def minDistance(word1, word2):\n",
    "    dp = [0] * (len(word2) + 1)\n",
    "    \n",
    "    for i in range(1, len(word1) + 1):\n",
    "        pre = 0\n",
    "        for j in range(1, len(word2) + 1):\n",
    "            curr = dp[j]\n",
    "            if word1[i-1] == word2[j-1]:\n",
    "                dp[j] = pre + 1\n",
    "            if word1[i-1] != word2[j-1]:\n",
    "                dp[j] = max(dp[j], dp[j-1])\n",
    "            pre = curr\n",
    "    \n",
    "    return len(word1)+len(word2)-dp[-1]*2\n",
    "\n",
    "word1 = \"sea\"\n",
    "word2 = \"eat\"\n",
    "minDistance(word1, word2)"
   ]
  }
 ],
 "metadata": {
  "kernelspec": {
   "display_name": "Python 3 (ipykernel)",
   "language": "python",
   "name": "python3"
  },
  "language_info": {
   "codemirror_mode": {
    "name": "ipython",
    "version": 3
   },
   "file_extension": ".py",
   "mimetype": "text/x-python",
   "name": "python",
   "nbconvert_exporter": "python",
   "pygments_lexer": "ipython3",
   "version": "3.9.19"
  }
 },
 "nbformat": 4,
 "nbformat_minor": 5
}
