{
 "cells": [
  {
   "cell_type": "code",
   "execution_count": 26,
   "id": "6932da2f",
   "metadata": {
    "scrolled": true
   },
   "outputs": [
    {
     "data": {
      "text/plain": [
       "7"
      ]
     },
     "execution_count": 26,
     "metadata": {},
     "output_type": "execute_result"
    }
   ],
   "source": [
    "#给你两个单词 word1 和 word2，计算出将 word1 转换成 word2 所使用的最少操作数。你可以对一个单词进行如下三种操作：\n",
    "#插入一个字符,删除一个字符,替换一个字符\n",
    "\n",
    "def minDistance(word1, word2):\n",
    "    dp = [[0]*(len(word2)+1) for _ in range(len(word1)+1)]\n",
    "    for i in range(1, len(word1) + 1):\n",
    "        dp[i][0] = i\n",
    "        \n",
    "    for j in range(len(word2) + 1):\n",
    "        dp[0][j] = j\n",
    "    \n",
    "    for i in range(1, len(word1)+1):\n",
    "        for j in range(1, len(word2) + 1):\n",
    "            if word1[i-1] == word2[j-1]:\n",
    "                dp[i][j] = dp[i-1][j-1]\n",
    "            else:\n",
    "                dp[i][j] = min(dp[i-1][j-1] + 1, dp[i-1][j] + 1, dp[i][j-1] + 1)\n",
    "#上句表示两个字符不同时的三种情况：用dp[i-1][j-1]加上一个替换操作(小于加上两个删除操作，即将不同的两个字符都删除); dp[i-1][j]加一个删除或插入相同字符操作;dp[i][j-1]同于dp[i-1][j]             \n",
    "        \n",
    "    return dp[-1][-1]\n",
    "\n",
    "word1 = \"dinitrophenylhydrazine\"\n",
    "word2 = \"phenylhydrazine\"\n",
    "minDistance(word1, word2)        "
   ]
  },
  {
   "cell_type": "code",
   "execution_count": 25,
   "id": "9d3c85fa",
   "metadata": {},
   "outputs": [
    {
     "data": {
      "text/plain": [
       "7"
      ]
     },
     "execution_count": 25,
     "metadata": {},
     "output_type": "execute_result"
    }
   ],
   "source": [
    "#二维滚动数组\n",
    "\n",
    "def minDistance(word1, word2):\n",
    "    dp = [[0]*(len(word2)+1) for _ in range(2)]\n",
    "    for i in range(len(word2)+1):\n",
    "        dp[0][i] = i\n",
    "    dp[1][0] = 1\n",
    "\n",
    "    for i in range(1, len(word1)+1):\n",
    "        for j in range(1, len(word2) + 1):\n",
    "            if word1[i-1] == word2[j-1]:\n",
    "                dp[1][j] = dp[0][j-1]\n",
    "            else:\n",
    "                dp[1][j] = min(dp[0][j-1] + 1, dp[0][j] + 1, dp[1][j-1] + 1)\n",
    "        \n",
    "        dp[0] = dp[1] #将第二行数值赋予第一行，然后开始遍历word1的下一个字符\n",
    "        dp[1] = [0]*(len(word2)+1)\n",
    "        dp[1][0] = i+1  #注意每次dp[1][0]的初始化\n",
    "        \n",
    "    return dp[0][-1]\n",
    "        \n",
    "word1 = \"dinitrophenylhydrazine\"\n",
    "word2 = \"phenylhydrazine\"\n",
    "minDistance(word1, word2) "
   ]
  }
 ],
 "metadata": {
  "kernelspec": {
   "display_name": "Python 3 (ipykernel)",
   "language": "python",
   "name": "python3"
  },
  "language_info": {
   "codemirror_mode": {
    "name": "ipython",
    "version": 3
   },
   "file_extension": ".py",
   "mimetype": "text/x-python",
   "name": "python",
   "nbconvert_exporter": "python",
   "pygments_lexer": "ipython3",
   "version": "3.9.13"
  }
 },
 "nbformat": 4,
 "nbformat_minor": 5
}
