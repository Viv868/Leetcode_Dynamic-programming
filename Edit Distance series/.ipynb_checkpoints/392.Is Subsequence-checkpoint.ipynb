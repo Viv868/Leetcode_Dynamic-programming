{
 "cells": [
  {
   "cell_type": "code",
   "execution_count": 25,
   "id": "d6f90d56",
   "metadata": {},
   "outputs": [
    {
     "name": "stdout",
     "output_type": "stream",
     "text": [
      "[[0, 0, 0, 0, 0, 0, 0], [0, 1, 1, 1, 1, 1, 1], [0, 1, 1, 2, 2, 2, 2], [0, 1, 1, 2, 2, 2, 3]]\n"
     ]
    },
    {
     "data": {
      "text/plain": [
       "True"
      ]
     },
     "execution_count": 25,
     "metadata": {},
     "output_type": "execute_result"
    }
   ],
   "source": [
    "def isSubsequence(s, t):\n",
    "    dp = [[0] * (len(t)+1) for _ in range(len(s)+1)]\n",
    " \n",
    "    for i in range(1,len(s)+1):\n",
    "        for j in range(1, len(t)+1):\n",
    "            if s[i-1] == t[j-1]:\n",
    "                dp[i][j] = dp[i-1][j-1] + 1\n",
    "            else:\n",
    "                dp[i][j] = dp[i][j-1]\n",
    "        \n",
    "    return dp[-1][-1] == len(s)\n",
    "\n",
    "s = \"abc\"\n",
    "t = \"ahbgdc\"\n",
    "isSubsequence(s, t)                                           "
   ]
  },
  {
   "cell_type": "code",
   "execution_count": 16,
   "id": "6c9c6fca",
   "metadata": {},
   "outputs": [
    {
     "name": "stdout",
     "output_type": "stream",
     "text": [
      "1 1\n",
      "1 2\n",
      "1 3\n",
      "1 4\n",
      "1 5\n",
      "1 6\n"
     ]
    },
    {
     "data": {
      "text/plain": [
       "False"
      ]
     },
     "execution_count": 16,
     "metadata": {},
     "output_type": "execute_result"
    }
   ],
   "source": [
    "#双指针法\n",
    "def isSubsequence(s, t):\n",
    "        i = j = 0\n",
    "        while j < len(t) and i < len(s):                                         \n",
    "            if s[i] == t[j]:\n",
    "                i += 1\n",
    "                j += 1\n",
    "            else: j += 1\n",
    "        return i == len(s)\n",
    "\n",
    "s = \"axc\" \n",
    "t = \"ahbgdc\"\n",
    "isSubsequence(s, t)"
   ]
  }
 ],
 "metadata": {
  "kernelspec": {
   "display_name": "Python 3 (ipykernel)",
   "language": "python",
   "name": "python3"
  },
  "language_info": {
   "codemirror_mode": {
    "name": "ipython",
    "version": 3
   },
   "file_extension": ".py",
   "mimetype": "text/x-python",
   "name": "python",
   "nbconvert_exporter": "python",
   "pygments_lexer": "ipython3",
   "version": "3.9.19"
  }
 },
 "nbformat": 4,
 "nbformat_minor": 5
}
