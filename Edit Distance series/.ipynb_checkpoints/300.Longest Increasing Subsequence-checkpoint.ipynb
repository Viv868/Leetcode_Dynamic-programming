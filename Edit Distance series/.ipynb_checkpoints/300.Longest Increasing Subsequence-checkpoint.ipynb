{
 "cells": [
  {
   "cell_type": "code",
   "execution_count": 1,
   "id": "65213920",
   "metadata": {},
   "outputs": [
    {
     "data": {
      "text/plain": [
       "6"
      ]
     },
     "execution_count": 1,
     "metadata": {},
     "output_type": "execute_result"
    }
   ],
   "source": [
    "def lengthOfLIS(nums):\n",
    "    if len(nums) == 1: return 1\n",
    "    dp = [1] * len(nums) \n",
    "    result = 0\n",
    "    \n",
    "    for i in range(1, len(nums)):\n",
    "        for j in range(i): \n",
    "            if nums[i] > nums[j]:\n",
    "                dp[i] = max(dp[i], dp[j] + 1) \n",
    "        if dp[i] > result: result = dp[i] \n",
    "   \n",
    "    return result\n",
    "\n",
    "\n",
    "nums = [1,3,6,7,9,4,10,5,6]\n",
    "lengthOfLIS(nums)"
   ]
  }
 ],
 "metadata": {
  "kernelspec": {
   "display_name": "Python 3 (ipykernel)",
   "language": "python",
   "name": "python3"
  },
  "language_info": {
   "codemirror_mode": {
    "name": "ipython",
    "version": 3
   },
   "file_extension": ".py",
   "mimetype": "text/x-python",
   "name": "python",
   "nbconvert_exporter": "python",
   "pygments_lexer": "ipython3",
   "version": "3.9.19"
  }
 },
 "nbformat": 4,
 "nbformat_minor": 5
}
