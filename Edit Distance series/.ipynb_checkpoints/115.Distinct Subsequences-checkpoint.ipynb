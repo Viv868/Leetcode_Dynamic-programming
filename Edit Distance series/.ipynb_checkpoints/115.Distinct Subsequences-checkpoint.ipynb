{
 "cells": [
  {
   "cell_type": "code",
   "execution_count": 1,
   "id": "d05be653",
   "metadata": {},
   "outputs": [
    {
     "data": {
      "text/plain": [
       "5"
      ]
     },
     "execution_count": 1,
     "metadata": {},
     "output_type": "execute_result"
    }
   ],
   "source": [
    "def numDistinct(s, t):\n",
    "    dp = [[0] * (len(t)+1) for _ in range(len(s)+1)]\n",
    "#初始化，dp[i][0],dp[0][j]均可看作空串\n",
    "    for i in range(len(s)+1): dp[i][0] = 1\n",
    "    \n",
    "    for i in range(1, len(s)+1):\n",
    "        for j in range(1, len(t)+1):\n",
    "            if s[i-1] == t[j-1]:\n",
    "                dp[i][j] = dp[i-1][j-1] + dp[i-1][j]\n",
    "            if s[i-1] != t[j-1]:\n",
    "                dp[i][j] = dp[i-1][j]\n",
    "       \n",
    "    return dp[-1][-1]\n",
    "\n",
    "s = \"babgbag\"\n",
    "t = \"bag\"\n",
    "numDistinct(s, t)"
   ]
  },
  {
   "cell_type": "code",
   "execution_count": 16,
   "id": "a853dc67",
   "metadata": {},
   "outputs": [
    {
     "data": {
      "text/plain": [
       "5"
      ]
     },
     "execution_count": 16,
     "metadata": {},
     "output_type": "execute_result"
    }
   ],
   "source": [
    "#一维\n",
    "def numDistinct(s, t):\n",
    "    dp = [0] * (len(t) + 1)\n",
    "    dp[0] = 1\n",
    "    \n",
    "    for i in range(1, len(s)+1):\n",
    "        pre = 1 \n",
    "        for j in range(1, len(t) + 1):\n",
    "            curr = dp[j]  #curr代表的均是i-1行的数值\n",
    "            if s[i-1] == t[j-1]:\n",
    "                dp[j] = pre + dp[j]  #分别代表dp[i-1][j-1]和dp[i-1][j]\n",
    "            pre = curr\n",
    "    return dp[-1]\n",
    "    \n",
    "s = \"babgbag\"\n",
    "t = \"bag\"\n",
    "numDistinct(s, t)"
   ]
  }
 ],
 "metadata": {
  "kernelspec": {
   "display_name": "Python 3 (ipykernel)",
   "language": "python",
   "name": "python3"
  },
  "language_info": {
   "codemirror_mode": {
    "name": "ipython",
    "version": 3
   },
   "file_extension": ".py",
   "mimetype": "text/x-python",
   "name": "python",
   "nbconvert_exporter": "python",
   "pygments_lexer": "ipython3",
   "version": "3.9.19"
  }
 },
 "nbformat": 4,
 "nbformat_minor": 5
}
