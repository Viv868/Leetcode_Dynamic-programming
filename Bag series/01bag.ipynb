{
 "cells": [
  {
   "cell_type": "code",
   "execution_count": 5,
   "id": "bced32b0",
   "metadata": {},
   "outputs": [
    {
     "name": "stdout",
     "output_type": "stream",
     "text": [
      "[[0, 15, 15, 15, 15], [0, 15, 0, 0, 0], [0, 0, 0, 0, 0]]\n",
      "[[0, 15, 15, 15, 15], [0, 15, 15, 0, 0], [0, 0, 0, 0, 0]]\n",
      "[[0, 15, 15, 15, 15], [0, 15, 15, 20, 0], [0, 0, 0, 0, 0]]\n",
      "[[0, 15, 15, 15, 15], [0, 15, 15, 20, 35], [0, 0, 0, 0, 0]]\n",
      "[[0, 15, 15, 15, 15], [0, 15, 15, 20, 35], [0, 15, 0, 0, 0]]\n",
      "[[0, 15, 15, 15, 15], [0, 15, 15, 20, 35], [0, 15, 15, 0, 0]]\n",
      "[[0, 15, 15, 15, 15], [0, 15, 15, 20, 35], [0, 15, 15, 20, 0]]\n",
      "[[0, 15, 15, 15, 15], [0, 15, 15, 20, 35], [0, 15, 15, 20, 35]]\n"
     ]
    },
    {
     "data": {
      "text/plain": [
       "35"
      ]
     },
     "execution_count": 5,
     "metadata": {},
     "output_type": "execute_result"
    }
   ],
   "source": [
    "#01背包问题用二维数组的话，两个for先遍历哪个都可以\n",
    "def maxvalue(weight, value, volume):\n",
    "    m = len(value)\n",
    "    n = volume+1\n",
    "    dp = [[0] * n for _ in range(m)]\n",
    "    \n",
    "    for j in range (weight[0], n):\n",
    "        dp[0][j] = value[0]   \n",
    "    \n",
    "    for i in range(1, m):\n",
    "        for j in range(1, n):\n",
    "            if weight[i] <= j:\n",
    "                dp[i][j] = max(dp[i-1][j], dp[i-1][j-weight[i]] + value[i])\n",
    "            else:\n",
    "                dp[i][j] = dp[i-1][j]\n",
    "            \n",
    "    return dp[m-1][n-1]\n",
    "    \n",
    "weight = [1, 3, 4]\n",
    "value = [15, 20, 30]\n",
    "volume = 4\n",
    "maxvalue(weight, value, volume)"
   ]
  },
  {
   "cell_type": "code",
   "execution_count": 3,
   "id": "eb616c4f",
   "metadata": {},
   "outputs": [
    {
     "name": "stdout",
     "output_type": "stream",
     "text": [
      "[0, 0, 0, 0, 15]\n",
      "[0, 0, 0, 15, 15]\n",
      "[0, 0, 15, 15, 15]\n",
      "[0, 15, 15, 15, 15]\n",
      "[0, 15, 15, 15, 35]\n",
      "[0, 15, 15, 20, 35]\n",
      "[0, 15, 15, 20, 35]\n"
     ]
    },
    {
     "data": {
      "text/plain": [
       "35"
      ]
     },
     "execution_count": 3,
     "metadata": {},
     "output_type": "execute_result"
    }
   ],
   "source": [
    "#滚动数组,对于背包问题其实状态都可以压缩。且一维优化均需要倒序遍历。因为靠后的数据需要用到靠前的原始数据，\n",
    "\n",
    "def maxvalue(weight, value, volume):\n",
    "    m = len(value)\n",
    "    n = volume+1\n",
    "    dp = [0] * n\n",
    "  \n",
    "    for i in range(m):\n",
    "        for j in range(volume, weight[i]-1, -1):\n",
    "            dp[j] = max(dp[j], dp[j-weight[i]]+value[i])\n",
    "            print(dp)\n",
    "    return dp[-1]\n",
    "\n",
    "weight = [1, 3, 4]\n",
    "value = [15, 20, 30]\n",
    "volume = 4\n",
    "maxvalue(weight, value, volume)"
   ]
  }
 ],
 "metadata": {
  "kernelspec": {
   "display_name": "Python 3 (ipykernel)",
   "language": "python",
   "name": "python3"
  },
  "language_info": {
   "codemirror_mode": {
    "name": "ipython",
    "version": 3
   },
   "file_extension": ".py",
   "mimetype": "text/x-python",
   "name": "python",
   "nbconvert_exporter": "python",
   "pygments_lexer": "ipython3",
   "version": "3.9.19"
  }
 },
 "nbformat": 4,
 "nbformat_minor": 5
}
