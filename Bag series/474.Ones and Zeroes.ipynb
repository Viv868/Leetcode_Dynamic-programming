{
 "cells": [
  {
   "cell_type": "code",
   "execution_count": 13,
   "id": "3eb48baf",
   "metadata": {
    "scrolled": false
   },
   "outputs": [
    {
     "data": {
      "text/plain": [
       "4"
      ]
     },
     "execution_count": 13,
     "metadata": {},
     "output_type": "execute_result"
    }
   ],
   "source": [
    "def findMaxForm(strs, m, n):\n",
    "    dp = [[0]*(n+1) for _ in range(m+1)]\n",
    "    \n",
    "    n_zeros = n_ones = 0\n",
    "    for s in strs:\n",
    "        n_zeros = s.count('0')\n",
    "        n_ones = len(s) - n_zeros\n",
    "        \n",
    "        for i in range(m, n_zeros-1, -1):\n",
    "            for j in range(n, n_ones-1, -1):\n",
    "                dp[i][j] = max(dp[i][j], dp[i-n_zeros][j-n_ones]+1) \n",
    "                \n",
    "    return dp[m][n]\n",
    "\n",
    "strs = [\"10\",\"0001\",\"111001\",\"1\",\"0\"]\n",
    "m = 5\n",
    "n = 3\n",
    "findMaxForm(strs,5,3)"
   ]
  }
 ],
 "metadata": {
  "kernelspec": {
   "display_name": "Python 3 (ipykernel)",
   "language": "python",
   "name": "python3"
  },
  "language_info": {
   "codemirror_mode": {
    "name": "ipython",
    "version": 3
   },
   "file_extension": ".py",
   "mimetype": "text/x-python",
   "name": "python",
   "nbconvert_exporter": "python",
   "pygments_lexer": "ipython3",
   "version": "3.9.19"
  }
 },
 "nbformat": 4,
 "nbformat_minor": 5
}
