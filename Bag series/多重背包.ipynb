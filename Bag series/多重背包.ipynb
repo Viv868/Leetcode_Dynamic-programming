{
 "cells": [
  {
   "cell_type": "code",
   "execution_count": 6,
   "id": "d93d36e2",
   "metadata": {},
   "outputs": [
    {
     "data": {
      "text/plain": [
       "90"
      ]
     },
     "execution_count": 6,
     "metadata": {},
     "output_type": "execute_result"
    }
   ],
   "source": [
    "#每件物品最多有Mi件可用，把Mi件摊开，就是一个01背包问题了。\n",
    "\n",
    "def multiPack(amount, weight, value, bagsize):\n",
    "    for i in range(len(amount)):   #展开重复的物品\n",
    "        weight.extend([weight[i]]*(amount[i]-1))\n",
    "        value.extend([value[i]]*(amount[i]-1))\n",
    "    \n",
    "    dp = [0]*(bagsize+1)\n",
    "    for i in range(len(weight)):\n",
    "        for j in range(bagsize, weight[i]-1, -1):\n",
    "            dp[j] = max(dp[j], dp[j-weight[i]]+value[i])\n",
    "    return dp[-1]\n",
    "            \n",
    "weight = [1,3,4]\n",
    "value = [15,20,30]\n",
    "amount = [2,3,2]\n",
    "bagsize = 10\n",
    "multiPack(amount, weight, value, bagsize)"
   ]
  },
  {
   "cell_type": "code",
   "execution_count": 8,
   "id": "2a5534c7",
   "metadata": {},
   "outputs": [
    {
     "data": {
      "text/plain": [
       "90"
      ]
     },
     "execution_count": 8,
     "metadata": {},
     "output_type": "execute_result"
    }
   ],
   "source": [
    "#另一种实现方式，就是把每种商品遍历的个数放在01背包里面再遍历一遍。\n",
    "def multiPack(amount, weight, value, bagsize):   \n",
    "    weight = [1, 3, 4]\n",
    "    value = [15, 20, 30]\n",
    "    nums = [2, 3, 2]\n",
    "    bagWeight = 10\n",
    "    dp = [0] * (bagWeight + 1)\n",
    "\n",
    "    for i in range(len(weight)):  # 遍历物品\n",
    "        for j in range(bagWeight, weight[i] - 1, -1):  # 遍历背包容量\n",
    "            # 以上为01背包\n",
    "            for k in range(1, nums[i] + 1):  # 遍历物品个数\n",
    "                if j - k * weight[i] >= 0:\n",
    "                    dp[j] = max(dp[j], dp[j - k * weight[i]] + k * value[i])\n",
    "    return dp[-1]\n",
    "\n",
    "weight = [1,3,4]\n",
    "value = [15,20,30]\n",
    "amount = [2,3,2]\n",
    "bagsize = 10\n",
    "multiPack(amount, weight, value, bagsize)"
   ]
  }
 ],
 "metadata": {
  "kernelspec": {
   "display_name": "Python 3 (ipykernel)",
   "language": "python",
   "name": "python3"
  },
  "language_info": {
   "codemirror_mode": {
    "name": "ipython",
    "version": 3
   },
   "file_extension": ".py",
   "mimetype": "text/x-python",
   "name": "python",
   "nbconvert_exporter": "python",
   "pygments_lexer": "ipython3",
   "version": "3.9.19"
  }
 },
 "nbformat": 4,
 "nbformat_minor": 5
}
