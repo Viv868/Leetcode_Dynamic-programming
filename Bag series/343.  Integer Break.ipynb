{
 "cells": [
  {
   "cell_type": "code",
   "execution_count": 10,
   "id": "9d6180d4",
   "metadata": {},
   "outputs": [
    {
     "data": {
      "text/plain": [
       "1458"
      ]
     },
     "execution_count": 10,
     "metadata": {},
     "output_type": "execute_result"
    }
   ],
   "source": [
    "def integerBreak(n):\n",
    "    dp = [0] * (n+1) \n",
    "    dp[2] = 1\n",
    "    for i in range(3, n+1): \n",
    "        for j in range(1, i-1):\n",
    "            dp[i] = max(dp[i], max(j*(i-j),j*dp[i-j]))#如i=4时,j取不同值都会得到一个dp[4],取这些中最大\n",
    "           \n",
    "    return dp[n]\n",
    "\n",
    "integerBreak(56)"
   ]
  },
  {
   "cell_type": "code",
   "execution_count": 9,
   "id": "2791234b",
   "metadata": {},
   "outputs": [
    {
     "data": {
      "text/plain": [
       "1458"
      ]
     },
     "execution_count": 9,
     "metadata": {},
     "output_type": "execute_result"
    }
   ],
   "source": [
    "# 利用数学方法\n",
    "#此法也可以看作贪心，即尽可能多的拆分成3，且遇到余数是4不再拆分\n",
    "\n",
    "def integerBreak(n):\n",
    "    if n <= 3:\n",
    "        return n-1\n",
    "   \n",
    "    result = 1\n",
    "    while n > 4:\n",
    "        n -= 3\n",
    "        result *= 3\n",
    "    return result * n\n",
    "\n",
    "integerBreak(56)"
   ]
  },
  {
   "cell_type": "code",
   "execution_count": null,
   "id": "c5808ec1",
   "metadata": {},
   "outputs": [],
   "source": [
    "def integerBreak(n):\n",
    "    dp = [0] * (n+1)\n",
    "    dp[2] = 1\n",
    "    for i in range(3, n+1): \n",
    "        for j in range(1, i//2 + 1):#拆分成m个近似的子数相乘才最大，m一定大于等于2，那么最差也应该是拆成两个相同的才可能是最大值\n",
    "            dp[i] = max(dp[i], max(j*(i-j),j*dp[i-j]))\n",
    "           \n",
    "    return dp[n]"
   ]
  }
 ],
 "metadata": {
  "kernelspec": {
   "display_name": "Python 3 (ipykernel)",
   "language": "python",
   "name": "python3"
  },
  "language_info": {
   "codemirror_mode": {
    "name": "ipython",
    "version": 3
   },
   "file_extension": ".py",
   "mimetype": "text/x-python",
   "name": "python",
   "nbconvert_exporter": "python",
   "pygments_lexer": "ipython3",
   "version": "3.9.19"
  }
 },
 "nbformat": 4,
 "nbformat_minor": 5
}
