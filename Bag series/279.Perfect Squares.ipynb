{
 "cells": [
  {
   "cell_type": "code",
   "execution_count": 13,
   "id": "efffde8f",
   "metadata": {},
   "outputs": [
    {
     "data": {
      "text/plain": [
       "2"
      ]
     },
     "execution_count": 13,
     "metadata": {},
     "output_type": "execute_result"
    }
   ],
   "source": [
    "def numSquares(n):\n",
    "    number = int(pow(n, 0.5))\n",
    "    squares = [i*i for i in range(1, number+1)]  #不能取0，0不是完美平方数\n",
    "    \n",
    "    dp = [float('inf') for i in range(n+1)]\n",
    "    dp[0] = 0\n",
    "    \n",
    "    for s in squares:\n",
    "        for j in range(s, n+1):\n",
    "            dp[j] = min(dp[j], dp[j-s] + 1)\n",
    "            \n",
    "    return dp[-1]\n",
    "            \n",
    "n = 13\n",
    "numSquares(n)"
   ]
  },
  {
   "cell_type": "code",
   "execution_count": 15,
   "id": "b5b0725c",
   "metadata": {},
   "outputs": [
    {
     "data": {
      "text/plain": [
       "2"
      ]
     },
     "execution_count": 15,
     "metadata": {},
     "output_type": "execute_result"
    }
   ],
   "source": [
    "#Way2\n",
    "def numSquares(n):\n",
    "    dp = [float('inf') for i in range(n+1)]\n",
    "    dp[0] = 0\n",
    "    \n",
    "    for i in range(1, int(n**0.5)+1): \n",
    "        for j in range(i*i, n+1):\n",
    "            dp[j] = min(dp[j], dp[j-i*i] + 1)\n",
    "            \n",
    "    return dp[-1]\n",
    "            \n",
    "n = 13\n",
    "numSquares(n)"
   ]
  }
 ],
 "metadata": {
  "kernelspec": {
   "display_name": "Python 3 (ipykernel)",
   "language": "python",
   "name": "python3"
  },
  "language_info": {
   "codemirror_mode": {
    "name": "ipython",
    "version": 3
   },
   "file_extension": ".py",
   "mimetype": "text/x-python",
   "name": "python",
   "nbconvert_exporter": "python",
   "pygments_lexer": "ipython3",
   "version": "3.9.19"
  }
 },
 "nbformat": 4,
 "nbformat_minor": 5
}
