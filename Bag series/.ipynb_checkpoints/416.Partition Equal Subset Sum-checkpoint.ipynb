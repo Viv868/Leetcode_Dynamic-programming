{
 "cells": [
  {
   "cell_type": "code",
   "execution_count": 1,
   "id": "e2353367",
   "metadata": {},
   "outputs": [
    {
     "data": {
      "text/plain": [
       "True"
      ]
     },
     "execution_count": 1,
     "metadata": {},
     "output_type": "execute_result"
    }
   ],
   "source": [
    "def canPartition(nums):\n",
    "    if sum(nums)%2: return False\n",
    "    \n",
    "    n = int(sum(nums)/2) + 1\n",
    "    m = len(nums)\n",
    "    dp = [0] * n\n",
    "    \n",
    "    for i in range(m):\n",
    "        for j in range(n-1, nums[i]-1, -1):\n",
    "            dp[j] = max(dp[j], dp[j-nums[i]] + nums[i])\n",
    "            \n",
    "    if dp[-1] == n-1:\n",
    "        return True\n",
    "    return False\n",
    "\n",
    "nums = [1,5,11,5]\n",
    "canPartition(nums)"
   ]
  }
 ],
 "metadata": {
  "kernelspec": {
   "display_name": "Python 3 (ipykernel)",
   "language": "python",
   "name": "python3"
  },
  "language_info": {
   "codemirror_mode": {
    "name": "ipython",
    "version": 3
   },
   "file_extension": ".py",
   "mimetype": "text/x-python",
   "name": "python",
   "nbconvert_exporter": "python",
   "pygments_lexer": "ipython3",
   "version": "3.9.19"
  }
 },
 "nbformat": 4,
 "nbformat_minor": 5
}
