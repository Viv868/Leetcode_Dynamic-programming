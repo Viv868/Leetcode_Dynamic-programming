{
 "cells": [
  {
   "cell_type": "code",
   "execution_count": 3,
   "id": "5599d1fa",
   "metadata": {},
   "outputs": [
    {
     "data": {
      "text/plain": [
       "7"
      ]
     },
     "execution_count": 3,
     "metadata": {},
     "output_type": "execute_result"
    }
   ],
   "source": [
    "\n",
    "def combinationSum4(nums, target):\n",
    "    m = len(nums)\n",
    "    n = target+1\n",
    "    dp = [0] * n\n",
    "    dp[0] = 1\n",
    "    \n",
    "    for j in range(n):\n",
    "        for i in range(m):\n",
    "            if j >= nums[i]:\n",
    "                dp[j] += dp[j-nums[i]]\n",
    "    return dp[-1]\n",
    "\n",
    "nums = [1, 2, 3]\n",
    "target = 4\n",
    "combinationSum4(nums, target)"
   ]
  }
 ],
 "metadata": {
  "kernelspec": {
   "display_name": "Python 3 (ipykernel)",
   "language": "python",
   "name": "python3"
  },
  "language_info": {
   "codemirror_mode": {
    "name": "ipython",
    "version": 3
   },
   "file_extension": ".py",
   "mimetype": "text/x-python",
   "name": "python",
   "nbconvert_exporter": "python",
   "pygments_lexer": "ipython3",
   "version": "3.9.19"
  }
 },
 "nbformat": 4,
 "nbformat_minor": 5
}
