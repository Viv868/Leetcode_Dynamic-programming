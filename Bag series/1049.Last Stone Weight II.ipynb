{
 "cells": [
  {
   "cell_type": "code",
   "execution_count": 1,
   "id": "852099c8",
   "metadata": {},
   "outputs": [
    {
     "data": {
      "text/plain": [
       "1"
      ]
     },
     "execution_count": 1,
     "metadata": {},
     "output_type": "execute_result"
    }
   ],
   "source": [
    "def lastStoneWeightII(stones):\n",
    "    n = int(sum(stones)//2)+1\n",
    "    dp = [0]*n\n",
    "    \n",
    "    for s in stones:\n",
    "        for j in range(n-1, s-1, -1):\n",
    "            dp[j] = max(dp[j], dp[j-s] + s)\n",
    "    return sum(stones) - dp[-1] - dp[-1]\n",
    "#一堆石头的最大价值(重量)减另一堆石头的最大价值(重量)为最小剩余重量  \n",
    "\n",
    "stones = [2,7,4,1,8,1]\n",
    "lastStoneWeightII(stones)"
   ]
  }
 ],
 "metadata": {
  "kernelspec": {
   "display_name": "Python 3 (ipykernel)",
   "language": "python",
   "name": "python3"
  },
  "language_info": {
   "codemirror_mode": {
    "name": "ipython",
    "version": 3
   },
   "file_extension": ".py",
   "mimetype": "text/x-python",
   "name": "python",
   "nbconvert_exporter": "python",
   "pygments_lexer": "ipython3",
   "version": "3.9.19"
  }
 },
 "nbformat": 4,
 "nbformat_minor": 5
}
