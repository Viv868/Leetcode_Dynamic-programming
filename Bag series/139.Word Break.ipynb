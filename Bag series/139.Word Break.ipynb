{
 "cells": [
  {
   "cell_type": "code",
   "execution_count": 18,
   "id": "d81f0634",
   "metadata": {
    "scrolled": true
   },
   "outputs": [
    {
     "data": {
      "text/plain": [
       "False"
      ]
     },
     "execution_count": 18,
     "metadata": {},
     "output_type": "execute_result"
    }
   ],
   "source": [
    "def wordBreak(s, wordDict):\n",
    "    wordSet = set(wordDict) \n",
    "    dp = [False] * (len(s) + 1)\n",
    "    dp[0] = True  #dp[0]必须初始化为True才能向后递推\n",
    "    \n",
    "    for i in range(1, len(s)+1):  #先遍历背包\n",
    "        for j in range(i):\n",
    "            substring = s[j:i]\n",
    "            if (substring in wordSet) and dp[j]:\n",
    "                dp[i] = True\n",
    "    return dp[-1]\n",
    "\n",
    "s = \"catsandog\"\n",
    "wordDict = [\"cats\",\"dog\",\"sand\",\"and\",\"cat\"]\n",
    "wordBreak(s, wordDict)"
   ]
  },
  {
   "cell_type": "code",
   "execution_count": 17,
   "id": "fe0247c6",
   "metadata": {},
   "outputs": [
    {
     "name": "stdout",
     "output_type": "stream",
     "text": [
      "[True, False, False, False, False, False, False, False, False, False]\n",
      "[True, False, False, False, False, False, False, False, False, False]\n",
      "[True, False, False, True, False, False, False, False, False, False]\n",
      "[True, False, False, True, True, False, False, False, False, False]\n",
      "[True, False, False, True, True, False, False, False, False, False]\n",
      "[True, False, False, True, True, False, False, False, False, False]\n",
      "[True, False, False, True, True, False, False, False, False, False]\n",
      "[True, False, False, True, True, False, False, False, False, False]\n",
      "[True, False, False, True, True, False, False, False, False, False]\n",
      "[True, False, False, True, True, False, False, False, False, False]\n",
      "[True, False, False, True, True, False, False, False, False, False]\n",
      "[True, False, False, True, True, False, False, False, False, False]\n",
      "[True, False, False, True, True, False, False, False, False, False]\n",
      "[True, False, False, True, True, False, False, False, False, False]\n",
      "[True, False, False, True, True, False, False, False, False, False]\n",
      "[True, False, False, True, True, False, False, False, False, False]\n",
      "[True, False, False, True, True, False, False, False, False, False]\n",
      "[True, False, False, True, True, False, False, False, False, False]\n",
      "[True, False, False, True, True, False, False, False, False, False]\n",
      "[True, False, False, True, True, False, False, False, False, False]\n",
      "[True, False, False, True, True, False, False, True, False, False]\n",
      "[True, False, False, True, True, False, False, True, False, False]\n",
      "[True, False, False, True, True, False, False, True, False, False]\n",
      "[True, False, False, True, True, False, False, True, False, False]\n",
      "[True, False, False, True, True, False, False, True, False, False]\n",
      "[True, False, False, True, True, False, False, True, False, False]\n",
      "[True, False, False, True, True, False, False, True, False, False]\n",
      "[True, False, False, True, True, False, False, True, False, False]\n",
      "[True, False, False, True, True, False, False, True, False, False]\n",
      "[True, False, False, True, True, False, False, True, False, False]\n",
      "[True, False, False, True, True, False, False, True, False, False]\n",
      "[True, False, False, True, True, False, False, True, False, False]\n",
      "[True, False, False, True, True, False, False, True, False, False]\n"
     ]
    },
    {
     "data": {
      "text/plain": [
       "False"
      ]
     },
     "execution_count": 17,
     "metadata": {},
     "output_type": "execute_result"
    }
   ],
   "source": [
    "# dp方法2\n",
    "def wordBreak(s, wordDict):\n",
    "        dp = [False]*(len(s) + 1)\n",
    "        dp[0] = True\n",
    "        # 遍历背包\n",
    "        for j in range(1, len(s) + 1):\n",
    "            # 遍历单词\n",
    "            for word in wordDict:\n",
    "                if j >= len(word):\n",
    "                    dp[j] = dp[j] or (dp[j - len(word)] and word == s[j - len(word):j]) \n",
    "\n",
    "        return dp[len(s)]\n",
    "    \n",
    "s = \"catsandog\"\n",
    "wordDict = [\"cats\",\"dog\",\"sand\",\"and\",\"cat\"]\n",
    "wordBreak(s, wordDict)"
   ]
  },
  {
   "cell_type": "code",
   "execution_count": null,
   "id": "b5374744",
   "metadata": {},
   "outputs": [],
   "source": [
    "#回溯法\n",
    "\n",
    "def backtracking(self, s: str, wordSet: set[str], startIndex: int) -> bool:\n",
    "        # 边界情况\n",
    "        if startIndex >= len(s):\n",
    "            return True\n",
    "\n",
    "        # 遍历所有可能的拆分位置\n",
    "        for i in range(startIndex, len(s)):\n",
    "            word = s[startIndex:i + 1]  # 截取子串\n",
    "            if word in wordSet and self.backtracking(s, wordSet, i + 1):\n",
    "                return True\n",
    "\n",
    "        # 无法进行有效拆分，返回False\n",
    "        return False\n",
    "\n",
    "    def wordBreak(self, s: str, wordDict: List[str]) -> bool:\n",
    "        wordSet = set(wordDict)  # 转换为哈希集合，提高查找效率\n",
    "        return self.backtracking(s, wordSet, 0)"
   ]
  }
 ],
 "metadata": {
  "kernelspec": {
   "display_name": "Python 3 (ipykernel)",
   "language": "python",
   "name": "python3"
  },
  "language_info": {
   "codemirror_mode": {
    "name": "ipython",
    "version": 3
   },
   "file_extension": ".py",
   "mimetype": "text/x-python",
   "name": "python",
   "nbconvert_exporter": "python",
   "pygments_lexer": "ipython3",
   "version": "3.9.19"
  }
 },
 "nbformat": 4,
 "nbformat_minor": 5
}
