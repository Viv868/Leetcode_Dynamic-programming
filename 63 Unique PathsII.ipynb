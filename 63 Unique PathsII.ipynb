{
 "cells": [
  {
   "cell_type": "code",
   "execution_count": 1,
   "id": "2c70042d",
   "metadata": {},
   "outputs": [
    {
     "data": {
      "text/plain": [
       "1"
      ]
     },
     "execution_count": 1,
     "metadata": {},
     "output_type": "execute_result"
    }
   ],
   "source": [
    "\n",
    "def uniquePathsWithObstacles(obstacleGrid):\n",
    "    m = len(obstacleGrid)\n",
    "    n = len(obstacleGrid[0]) \n",
    "    if obstacleGrid[m - 1][n - 1] == 1 or obstacleGrid[0][0] == 1:\n",
    "        return 0\n",
    "    \n",
    "    dp = [[0] * n for _ in range(m)]  \n",
    "    \n",
    "    #初始化要考虑横行和竖行分别有障碍物的情况\n",
    "    for i in range(m):\n",
    "        if obstacleGrid[i][0] == 0:\n",
    "            dp[i][0] = 1\n",
    "        else:\n",
    "            break\n",
    "           \n",
    "    for j in range(n):\n",
    "        if obstacleGrid[0][j] == 0:\n",
    "            dp[0][j] = 1\n",
    "        else:\n",
    "            break\n",
    "    \n",
    "    for i in range(1, m):\n",
    "        for j in range(1, n):\n",
    "            if obstacleGrid[i][j] == 1: \n",
    "                continue\n",
    "            dp[i][j] = dp[i-1][j] + dp[i][j-1]\n",
    "    \n",
    "    return dp[m-1][n-1]\n",
    "\n",
    "obstacleGrid = [[0,0],[1,0]]\n",
    "uniquePathsWithObstacles(obstacleGrid)"
   ]
  },
  {
   "cell_type": "code",
   "execution_count": 3,
   "id": "3a323fed",
   "metadata": {},
   "outputs": [
    {
     "data": {
      "text/plain": [
       "2"
      ]
     },
     "execution_count": 3,
     "metadata": {},
     "output_type": "execute_result"
    }
   ],
   "source": [
    "#滚动数组方法\n",
    "\n",
    "def uniquePathsWithObstacles(obstacleGrid):\n",
    "    m = len(obstacleGrid)\n",
    "    n = len(obstacleGrid[0]) \n",
    "    if obstacleGrid[m - 1][n - 1] == 1 or obstacleGrid[0][0] == 1:\n",
    "        return 0\n",
    "    \n",
    "    dp = [0 for _ in range(n)] \n",
    "\n",
    "    for i in range(n):  #初始化\n",
    "        if obstacleGrid[0][i] == 0:\n",
    "            dp[i] = 1\n",
    "        else:\n",
    "            break\n",
    "           \n",
    "    for i in range(1, m):\n",
    "        for j in range(n): \n",
    "            if obstacleGrid[i][j] == 1: \n",
    "                dp[j] = 0\n",
    "            elif j != 0: \n",
    "                dp[j] += dp[j-1]\n",
    "       \n",
    "    return dp[n-1] \n",
    "\n",
    "obstacleGrid = [[0,0,0],[0,1,0],[0,0,0]]\n",
    "uniquePathsWithObstacles(obstacleGrid)"
   ]
  }
 ],
 "metadata": {
  "kernelspec": {
   "display_name": "Python 3 (ipykernel)",
   "language": "python",
   "name": "python3"
  },
  "language_info": {
   "codemirror_mode": {
    "name": "ipython",
    "version": 3
   },
   "file_extension": ".py",
   "mimetype": "text/x-python",
   "name": "python",
   "nbconvert_exporter": "python",
   "pygments_lexer": "ipython3",
   "version": "3.9.19"
  }
 },
 "nbformat": 4,
 "nbformat_minor": 5
}
