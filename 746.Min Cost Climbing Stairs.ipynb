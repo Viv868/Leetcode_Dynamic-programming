{
 "cells": [
  {
   "cell_type": "code",
   "execution_count": 1,
   "id": "b3868ac2",
   "metadata": {},
   "outputs": [
    {
     "data": {
      "text/plain": [
       "6"
      ]
     },
     "execution_count": 1,
     "metadata": {},
     "output_type": "execute_result"
    }
   ],
   "source": [
    "\n",
    "def minCostClimbingStairs(cost):\n",
    "    if len(cost) <= 1:\n",
    "        return  0\n",
    "    \n",
    "    dp = [0] * (len(cost) + 1)\n",
    "    dp[0] = 0\n",
    "    dp[1] = 0\n",
    "    for i in range(2, len(cost)+1):\n",
    "        dp[i] = min(dp[i-1] + cost[i-1], dp[i-2] + cost[i-2])\n",
    "        \n",
    "    return dp[len(cost)]\n",
    "\n",
    "cost = [1,100,1,1,1,100,1,1,100,1]\n",
    "minCostClimbingStairs(cost)    "
   ]
  },
  {
   "cell_type": "code",
   "execution_count": 2,
   "id": "738696d8",
   "metadata": {},
   "outputs": [
    {
     "data": {
      "text/plain": [
       "7"
      ]
     },
     "execution_count": 2,
     "metadata": {},
     "output_type": "execute_result"
    }
   ],
   "source": [
    "#(滚动数组)\n",
    "def minCostClimbingStairs(cost):\n",
    "    dp0 = 0  # 初始值，表示从起点开始不需要花费体力\n",
    "    dp1 = 0  \n",
    "        \n",
    "    for i in range(2, len(cost) + 1):\n",
    "           \n",
    "        dpi = min(dp1 + cost[i - 1], dp0 + cost[i - 2])   \n",
    "        dp0 = dp1  \n",
    "        dp1 = dpi  \n",
    "        \n",
    "    return dp1 \n",
    "\n",
    "cost = [1,2,3,5,8]\n",
    "minCostClimbingStairs(cost) "
   ]
  }
 ],
 "metadata": {
  "kernelspec": {
   "display_name": "Python 3 (ipykernel)",
   "language": "python",
   "name": "python3"
  },
  "language_info": {
   "codemirror_mode": {
    "name": "ipython",
    "version": 3
   },
   "file_extension": ".py",
   "mimetype": "text/x-python",
   "name": "python",
   "nbconvert_exporter": "python",
   "pygments_lexer": "ipython3",
   "version": "3.9.19"
  }
 },
 "nbformat": 4,
 "nbformat_minor": 5
}
